{
 "cells": [
  {
   "cell_type": "code",
   "execution_count": 8,
   "metadata": {},
   "outputs": [],
   "source": [
    "import torch\n",
    "import matplotlib.pyplot as plt\n",
    "from torch import nn\n",
    "from torch.utils.data import DataLoader, TensorDataset\n",
    "from icnn import ICNN  # Assuming ICNN is defined in your project"
   ]
  },
  {
   "cell_type": "code",
   "execution_count": 9,
   "metadata": {},
   "outputs": [],
   "source": [
    "\n",
    "def train_loop(dataloader, model, loss_fn, optimizer):\n",
    "    \"\"\" Fetches batches from dataloader and runs backpropagation on them \"\"\"\n",
    "    size = len(dataloader.dataset)\n",
    "    for batch, (X, y) in enumerate(dataloader):\n",
    "        # Compute prediction and loss\n",
    "        pred = model(X)\n",
    "        loss = loss_fn(pred, y)\n",
    "\n",
    "        # Backpropagation\n",
    "        optimizer.zero_grad()\n",
    "        loss.backward()\n",
    "        optimizer.step()\n",
    "\n",
    "        # Key Code guaranteeing nonnegative Weight Matrix\n",
    "        with torch.no_grad():\n",
    "            for name, param in model.named_parameters():\n",
    "                if \"prim\" in name: \n",
    "                    param.copy_(param.clamp(min=0))\n",
    "        \n",
    "        if batch % 10 == 0:\n",
    "            loss, current = loss.item(), batch * len(X)\n",
    "            print(f\"loss: {loss:>7f}  [{current:>5d}/{size:>5d}]\")\n",
    "        \n"
   ]
  },
  {
   "cell_type": "code",
   "execution_count": 10,
   "metadata": {},
   "outputs": [],
   "source": [
    "def test_loop(dataloader, model, loss_fn):\n",
    "    \"\"\" Fetches batches from test data dataloader and fowards them through net\n",
    "\n",
    "    Args:\n",
    "        dataloader: torch.utils.data.Dataloader() instance\n",
    "        model: Neural network model\n",
    "        loss_fn: particular loss function to use\n",
    "\n",
    "    Prints:\n",
    "        Test Error and Average Loss\n",
    "    \"\"\"\n",
    "    size = len(dataloader.dataset)\n",
    "    num_batches = len(dataloader)\n",
    "    test_loss, correct = 0, 0\n",
    "\n",
    "    with torch.no_grad():\n",
    "        for X, y in dataloader:\n",
    "            pred = model(X)\n",
    "            test_loss += loss_fn(pred, y).item()\n",
    "            correct += (pred.argmax(1) == y).type(torch.float).sum().item()\n",
    "\n",
    "    test_loss /= num_batches\n",
    "    correct /= size\n",
    "    print(f\"Test Error: \\n Accuracy: {(100*correct):>0.1f}%, Avg loss: {test_loss:>8f} \\n\")"
   ]
  },
  {
   "cell_type": "code",
   "execution_count": 11,
   "metadata": {},
   "outputs": [
    {
     "data": {
      "image/png": "[encoded data removed]",
      "text/plain": [
       "<Figure size 432x288 with 1 Axes>"
      ]
     },
     "metadata": {
      "needs_background": "light"
     },
     "output_type": "display_data"
    }
   ],
   "source": [
    "def call_train_loop(epochs, train_loader, test_loader, model, loss_fn, optimizer):\n",
    "    \"\"\" Trains for a specified number of epochs \"\"\"\n",
    "    for t in range(epochs):\n",
    "        print(f\"Epoch {t+1}\\n-------------------------------\")\n",
    "        train_loop(train_loader, model, loss_fn, optimizer)\n",
    "        test_loop(test_loader, model, loss_fn)\n",
    "    print(\"Done!\")\n",
    "    return model\n",
    "\n",
    "# Define constants for synthetic nonlinear elasticity material\n",
    "alpha = 2.0  # quadratic term\n",
    "beta = 0.5   # quartic term\n",
    "\n",
    "# Generate synthetic strain and strain energy density data\n",
    "strain = torch.linspace(0, 1, 100).reshape(-1, 1)  # Strain values from 0 to 1\n",
    "energy_density = alpha * strain**2 + beta * strain**4  # Strain energy density\n",
    "\n",
    "# Plot true strain-energy density relationship for reference\n",
    "plt.plot(strain.numpy(), energy_density.numpy(), label='True Energy Density')\n",
    "plt.xlabel('Strain')\n",
    "plt.ylabel('Strain Energy Density')\n",
    "plt.title('True Strain-Energy Density for Nonlinear Elastic Material')\n",
    "plt.legend()\n",
    "plt.show()"
   ]
  },
  {
   "cell_type": "code",
   "execution_count": 12,
   "metadata": {},
   "outputs": [],
   "source": [
    "# Modified train_icnn function to use synthetic data for nonlinear elasticity\n",
    "def train_icnn_nonlinear_elasticity(learning_rate, epochs):\n",
    "    \"\"\"Trains ICNN on synthetic nonlinear elasticity data.\"\"\"\n",
    "    device = torch.device(\"cuda\" if torch.cuda.is_available() else \"cpu\")\n",
    "    print('Using {} device'.format(device))\n",
    "\n",
    "    # Use synthetic strain data as a DataLoader-compatible dataset\n",
    "    train_loader = TensorDataset(strain, energy_density)\n",
    "    test_loader = DataLoader(train_loader, batch_size=10, shuffle=True)\n",
    "    \n",
    "    # Instantiate the ICNN model\n",
    "    model = ICNN()\n",
    "    loss_fn = nn.CrossEntropyLoss()\n",
    "    optimizer = torch.optim.Adam(model.parameters(), lr=learning_rate)\n",
    "\n",
    "    # Use existing training loop structure\n",
    "    trained_model = call_train_loop(epochs, train_loader, test_loader, model, loss_fn, optimizer)\n",
    "\n",
    "    return trained_model"
   ]
  },
  {
   "cell_type": "code",
   "execution_count": 13,
   "metadata": {},
   "outputs": [
    {
     "name": "stdout",
     "output_type": "stream",
     "text": [
      "Using cpu device\n",
      "Epoch 1\n",
      "-------------------------------\n"
     ]
    },
    {
     "ename": "AttributeError",
     "evalue": "'TensorDataset' object has no attribute 'dataset'",
     "output_type": "error",
     "traceback": [
      "\u001b[1;31m---------------------------------------------------------------------------\u001b[0m",
      "\u001b[1;31mAttributeError\u001b[0m                            Traceback (most recent call last)",
      "Input \u001b[1;32mIn [13]\u001b[0m, in \u001b[0;36m<cell line: 2>\u001b[1;34m()\u001b[0m\n\u001b[0;32m      1\u001b[0m \u001b[38;5;66;03m# Train the model and visualize results\u001b[39;00m\n\u001b[0;32m      2\u001b[0m \u001b[38;5;28;01mif\u001b[39;00m \u001b[38;5;18m__name__\u001b[39m \u001b[38;5;241m==\u001b[39m \u001b[38;5;124m\"\u001b[39m\u001b[38;5;124m__main__\u001b[39m\u001b[38;5;124m\"\u001b[39m:\n\u001b[0;32m      3\u001b[0m     \u001b[38;5;66;03m# Train the ICNN model using the modified function\u001b[39;00m\n\u001b[1;32m----> 4\u001b[0m     trained_model \u001b[38;5;241m=\u001b[39m \u001b[43mtrain_icnn_nonlinear_elasticity\u001b[49m\u001b[43m(\u001b[49m\u001b[38;5;241;43m1e-3\u001b[39;49m\u001b[43m,\u001b[49m\u001b[43m \u001b[49m\u001b[38;5;241;43m1000\u001b[39;49m\u001b[43m)\u001b[49m\n\u001b[0;32m      6\u001b[0m     \u001b[38;5;66;03m# Generate predictions using the trained model\u001b[39;00m\n\u001b[0;32m      7\u001b[0m     \u001b[38;5;28;01mwith\u001b[39;00m torch\u001b[38;5;241m.\u001b[39mno_grad():\n",
      "Input \u001b[1;32mIn [12]\u001b[0m, in \u001b[0;36mtrain_icnn_nonlinear_elasticity\u001b[1;34m(learning_rate, epochs)\u001b[0m\n\u001b[0;32m     14\u001b[0m optimizer \u001b[38;5;241m=\u001b[39m torch\u001b[38;5;241m.\u001b[39moptim\u001b[38;5;241m.\u001b[39mAdam(model\u001b[38;5;241m.\u001b[39mparameters(), lr\u001b[38;5;241m=\u001b[39mlearning_rate)\n\u001b[0;32m     16\u001b[0m \u001b[38;5;66;03m# Use existing training loop structure\u001b[39;00m\n\u001b[1;32m---> 17\u001b[0m trained_model \u001b[38;5;241m=\u001b[39m \u001b[43mcall_train_loop\u001b[49m\u001b[43m(\u001b[49m\u001b[43mepochs\u001b[49m\u001b[43m,\u001b[49m\u001b[43m \u001b[49m\u001b[43mtrain_loader\u001b[49m\u001b[43m,\u001b[49m\u001b[43m \u001b[49m\u001b[43mtest_loader\u001b[49m\u001b[43m,\u001b[49m\u001b[43m \u001b[49m\u001b[43mmodel\u001b[49m\u001b[43m,\u001b[49m\u001b[43m \u001b[49m\u001b[43mloss_fn\u001b[49m\u001b[43m,\u001b[49m\u001b[43m \u001b[49m\u001b[43moptimizer\u001b[49m\u001b[43m)\u001b[49m\n\u001b[0;32m     19\u001b[0m \u001b[38;5;28;01mreturn\u001b[39;00m trained_model\n",
      "Input \u001b[1;32mIn [11]\u001b[0m, in \u001b[0;36mcall_train_loop\u001b[1;34m(epochs, train_loader, test_loader, model, loss_fn, optimizer)\u001b[0m\n\u001b[0;32m      3\u001b[0m \u001b[38;5;28;01mfor\u001b[39;00m t \u001b[38;5;129;01min\u001b[39;00m \u001b[38;5;28mrange\u001b[39m(epochs):\n\u001b[0;32m      4\u001b[0m     \u001b[38;5;28mprint\u001b[39m(\u001b[38;5;124mf\u001b[39m\u001b[38;5;124m\"\u001b[39m\u001b[38;5;124mEpoch \u001b[39m\u001b[38;5;132;01m{\u001b[39;00mt\u001b[38;5;241m+\u001b[39m\u001b[38;5;241m1\u001b[39m\u001b[38;5;132;01m}\u001b[39;00m\u001b[38;5;130;01m\\n\u001b[39;00m\u001b[38;5;124m-------------------------------\u001b[39m\u001b[38;5;124m\"\u001b[39m)\n\u001b[1;32m----> 5\u001b[0m     \u001b[43mtrain_loop\u001b[49m\u001b[43m(\u001b[49m\u001b[43mtrain_loader\u001b[49m\u001b[43m,\u001b[49m\u001b[43m \u001b[49m\u001b[43mmodel\u001b[49m\u001b[43m,\u001b[49m\u001b[43m \u001b[49m\u001b[43mloss_fn\u001b[49m\u001b[43m,\u001b[49m\u001b[43m \u001b[49m\u001b[43moptimizer\u001b[49m\u001b[43m)\u001b[49m\n\u001b[0;32m      6\u001b[0m     test_loop(test_loader, model, loss_fn)\n\u001b[0;32m      7\u001b[0m \u001b[38;5;28mprint\u001b[39m(\u001b[38;5;124m\"\u001b[39m\u001b[38;5;124mDone!\u001b[39m\u001b[38;5;124m\"\u001b[39m)\n",
      "Input \u001b[1;32mIn [9]\u001b[0m, in \u001b[0;36mtrain_loop\u001b[1;34m(dataloader, model, loss_fn, optimizer)\u001b[0m\n\u001b[0;32m      1\u001b[0m \u001b[38;5;28;01mdef\u001b[39;00m \u001b[38;5;21mtrain_loop\u001b[39m(dataloader, model, loss_fn, optimizer):\n\u001b[0;32m      2\u001b[0m \u001b[38;5;250m    \u001b[39m\u001b[38;5;124;03m\"\"\" Fetches batches from dataloader and runs backpropagation on them \"\"\"\u001b[39;00m\n\u001b[1;32m----> 3\u001b[0m     size \u001b[38;5;241m=\u001b[39m \u001b[38;5;28mlen\u001b[39m(\u001b[43mdataloader\u001b[49m\u001b[38;5;241;43m.\u001b[39;49m\u001b[43mdataset\u001b[49m)\n\u001b[0;32m      4\u001b[0m     \u001b[38;5;28;01mfor\u001b[39;00m batch, (X, y) \u001b[38;5;129;01min\u001b[39;00m \u001b[38;5;28menumerate\u001b[39m(dataloader):\n\u001b[0;32m      5\u001b[0m         \u001b[38;5;66;03m# Compute prediction and loss\u001b[39;00m\n\u001b[0;32m      6\u001b[0m         pred \u001b[38;5;241m=\u001b[39m model(X)\n",
      "\u001b[1;31mAttributeError\u001b[0m: 'TensorDataset' object has no attribute 'dataset'"
     ]
    }
   ],
   "source": [
    "# Train the model and visualize results\n",
    "if __name__ == \"__main__\":\n",
    "    # Train the ICNN model using the modified function\n",
    "    trained_model = train_icnn_nonlinear_elasticity(1e-3, 1000)\n",
    "\n",
    "    # Generate predictions using the trained model\n",
    "    with torch.no_grad():\n",
    "        predicted_energy_density = trained_model(strain).cpu()\n",
    "\n",
    "    # Plot true vs. predicted strain-energy density\n",
    "    plt.plot(strain.numpy(), energy_density.numpy(), label='True Energy Density')\n",
    "    plt.plot(strain.numpy(), predicted_energy_density.numpy(), label='Predicted by ICNN', linestyle='--')\n",
    "    plt.xlabel('Strain')\n",
    "    plt.ylabel('Strain Energy Density')\n",
    "    plt.title('ICNN Prediction for Nonlinear Elastic Material')\n",
    "    plt.legend()\n",
    "    plt.show()"
   ]
  },
  {
   "cell_type": "code",
   "execution_count": null,
   "metadata": {},
   "outputs": [],
   "source": []
  }
 ],
 "metadata": {
  "kernelspec": {
   "display_name": "Python 3",
   "language": "python",
   "name": "python3"
  },
  "language_info": {
   "codemirror_mode": {
    "name": "ipython",
    "version": 3
   },
   "file_extension": ".py",
   "mimetype": "text/x-python",
   "name": "python",
   "nbconvert_exporter": "python",
   "pygments_lexer": "ipython3",
   "version": "3.10.11"
  }
 },
 "nbformat": 4,
 "nbformat_minor": 2
}
