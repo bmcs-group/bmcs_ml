{
 "cells": [
  {
   "cell_type": "code",
   "execution_count": 1,
   "metadata": {},
   "outputs": [],
   "source": [
    "import sympy as sp\n",
    "import numpy as np\n",
    "import torch\n",
    "import matplotlib.pyplot as plt\n",
    "from IPython.display import display\n",
    "from ipywidgets import interact, FloatSlider\n",
    "import ipywidgets as widgets"
   ]
  },
  {
   "cell_type": "code",
   "execution_count": null,
   "metadata": {},
   "outputs": [
    {
     "name": "stdout",
     "output_type": "stream",
     "text": [
      "SoftplusSquared Function:\n"
     ]
    },
    {
     "data": {
      "text/latex": [
       "$\\displaystyle \\frac{\\log{\\left(e^{\\beta^{2} z} + 1 \\right)}^{2}}{2 \\beta^{4}}$"
      ],
      "text/plain": [
       "log(exp(beta**2*z) + 1)**2/(2*beta**4)"
      ]
     },
     "metadata": {},
     "output_type": "display_data"
    },
    {
     "name": "stdout",
     "output_type": "stream",
     "text": [
      "\n",
      "First Derivative:\n"
     ]
    },
    {
     "data": {
      "text/latex": [
       "$\\displaystyle \\frac{e^{\\beta^{2} z} \\log{\\left(e^{\\beta^{2} z} + 1 \\right)}}{\\beta^{2} \\left(e^{\\beta^{2} z} + 1\\right)}$"
      ],
      "text/plain": [
       "exp(beta**2*z)*log(exp(beta**2*z) + 1)/(beta**2*(exp(beta**2*z) + 1))"
      ]
     },
     "metadata": {},
     "output_type": "display_data"
    },
    {
     "name": "stdout",
     "output_type": "stream",
     "text": [
      "\n",
      "Second Derivative:\n"
     ]
    },
    {
     "data": {
      "text/latex": [
       "$\\displaystyle \\frac{e^{\\beta^{2} z} \\log{\\left(e^{\\beta^{2} z} + 1 \\right)}}{e^{\\beta^{2} z} + 1} - \\frac{e^{2 \\beta^{2} z} \\log{\\left(e^{\\beta^{2} z} + 1 \\right)}}{\\left(e^{\\beta^{2} z} + 1\\right)^{2}} + \\frac{e^{2 \\beta^{2} z}}{\\left(e^{\\beta^{2} z} + 1\\right)^{2}}$"
      ],
      "text/plain": [
       "exp(beta**2*z)*log(exp(beta**2*z) + 1)/(exp(beta**2*z) + 1) - exp(2*beta**2*z)*log(exp(beta**2*z) + 1)/(exp(beta**2*z) + 1)**2 + exp(2*beta**2*z)/(exp(beta**2*z) + 1)**2"
      ]
     },
     "metadata": {},
     "output_type": "display_data"
    },
    {
     "data": {
      "application/vnd.jupyter.widget-view+json": {
       "model_id": "e0c5b45708394eb6941738d4503f4182",
       "version_major": 2,
       "version_minor": 0
      },
      "text/plain": [
       "interactive(children=(FloatSlider(value=1.0, description='β', max=5.0, min=0.1), Output()), _dom_classes=('wid…"
      ]
     },
     "metadata": {},
     "output_type": "display_data"
    }
   ],
   "source": [
    "# Define symbols\n",
    "z_sym = sp.symbols('z')\n",
    "beta_sym = sp.symbols('beta')\n",
    "\n",
    "# Define the softplus squared expression, its first and second derivatives\n",
    "softplus_squared = (1 / (2 * beta_sym**4)) * sp.log(1 + sp.exp(beta_sym**2 * z_sym))**2\n",
    "first_derivative = sp.diff(softplus_squared, z_sym)\n",
    "second_derivative = sp.diff(first_derivative, z_sym)\n",
    "print(\"SoftplusSquared Function:\") \n",
    "display(softplus_squared)\n",
    "print(\"\\nFirst Derivative:\")\n",
    "display(first_derivative)\n",
    "print(\"\\nSecond Derivative:\")\n",
    "display(second_derivative)\n",
    "\n",
    "# Lambdify the expressions to use them with numpy\n",
    "softplus_func = sp.lambdify((z_sym, beta_sym), softplus_squared, modules='numpy')\n",
    "first_derivative_func = sp.lambdify((z_sym, beta_sym), first_derivative, modules='numpy')\n",
    "second_derivative_func = sp.lambdify((z_sym, beta_sym), second_derivative, modules='numpy')\n",
    "\n",
    "def plot_softplus(beta=1.0):\n",
    "    z = np.linspace(-5, 5, 100)\n",
    "    softplus_vals = softplus_func(z, beta)\n",
    "    first_derivative_vals = first_derivative_func(z, beta)\n",
    "    second_derivative_vals = second_derivative_func(z, beta)\n",
    "    # Plot the function and its derivatives\n",
    "    plt.figure(figsize=(6, 4))\n",
    "    plt.plot(z, softplus_vals, label=\"SoftplusSquared\", linewidth=2)\n",
    "    plt.plot(z, first_derivative_vals, label=\"1st Derivative\", linestyle=\"--\", linewidth=2)\n",
    "    plt.plot(z, second_derivative_vals, label=\"2nd Derivative\", linestyle=\":\", linewidth=2)\n",
    "    plt.title(f\"SoftplusSquared Function and its Derivatives (β = {beta:.2f})\")\n",
    "    plt.xlabel(\"z\")\n",
    "    plt.ylabel(\"Value\")\n",
    "    plt.legend()\n",
    "    plt.grid()\n",
    "    plt.show()\n",
    "\n",
    "# Create an interactive slider for beta\n",
    "interact(plot_softplus, beta=FloatSlider(value=1, min=.1, max=5, step=0.1, description='β'));"
   ]
  },
  {
   "cell_type": "code",
   "execution_count": 3,
   "metadata": {},
   "outputs": [
    {
     "data": {
      "application/vnd.jupyter.widget-view+json": {
       "model_id": "e92b32fd4a084f18becca818ab9e8264",
       "version_major": 2,
       "version_minor": 0
      },
      "text/plain": [
       "interactive(children=(FloatSlider(value=1.0, description='beta', max=5.0, min=0.1), Output()), _dom_classes=('…"
      ]
     },
     "metadata": {},
     "output_type": "display_data"
    },
    {
     "data": {
      "text/plain": [
       "<function __main__.plot_softplus_squared(beta)>"
      ]
     },
     "execution_count": 3,
     "metadata": {},
     "output_type": "execute_result"
    }
   ],
   "source": [
    "\n",
    "class SoftplusSquared(torch.nn.Module):\n",
    "    def __init__(self, beta=1.0):\n",
    "        super(SoftplusSquared, self).__init__()\n",
    "        self.beta = beta\n",
    "    def forward(self, z):\n",
    "        beta_squared = self.beta ** 2\n",
    "        return (1 / (2 * beta_squared**2)) * torch.log(1 + torch.exp(beta_squared * z))**2\n",
    "\n",
    "def plot_softplus_squared(beta):\n",
    "    z = torch.linspace(-5, 5, 500, requires_grad=True)\n",
    "    softplus_squared = SoftplusSquared(beta=beta)\n",
    "    y = softplus_squared(z)\n",
    "    y.backward(torch.ones_like(z), create_graph=True)  \n",
    "    first_derivative = z.grad.clone()  \n",
    "    z.grad.zero_()  \n",
    "    first_derivative.sum().backward()  \n",
    "    second_derivative = z.grad.clone()  \n",
    "\n",
    "    # Convert to numpy for plotting\n",
    "    z_np = z.detach().numpy()\n",
    "    y_np = y.detach().numpy()\n",
    "    first_derivative_np = first_derivative.detach().numpy()\n",
    "    second_derivative_np = second_derivative.detach().numpy()\n",
    "    # Plot the function and its derivatives\n",
    "    plt.figure(figsize=(10, 6))\n",
    "    plt.plot(z_np, y_np, label=\"SoftplusSquared\", linewidth=2)\n",
    "    plt.plot(z_np, first_derivative_np, label=\"1st Derivative\", linestyle=\"--\", linewidth=2)\n",
    "    plt.plot(z_np, second_derivative_np, label=\"2nd Derivative\", linestyle=\":\", linewidth=2)\n",
    "    plt.axhline(0, color='black', linewidth=0.5, linestyle='dotted')\n",
    "    plt.axvline(0, color='black', linewidth=0.5, linestyle='dotted')\n",
    "    plt.title(f\"SoftplusSquared Function and its Derivatives (beta={beta})\")\n",
    "    plt.xlabel(\"z\")\n",
    "    plt.ylabel(\"Value\")\n",
    "    plt.legend()\n",
    "    plt.grid()\n",
    "    plt.show()\n",
    "interact(plot_softplus_squared, beta=widgets.FloatSlider(value=1.0, min=0.1, max=5.0, step=0.1))\n"
   ]
  },
  {
   "cell_type": "code",
   "execution_count": null,
   "metadata": {},
   "outputs": [],
   "source": []
  }
 ],
 "metadata": {
  "kernelspec": {
   "display_name": "Python 3",
   "language": "python",
   "name": "python3"
  },
  "language_info": {
   "codemirror_mode": {
    "name": "ipython",
    "version": 3
   },
   "file_extension": ".py",
   "mimetype": "text/x-python",
   "name": "python",
   "nbconvert_exporter": "python",
   "pygments_lexer": "ipython3",
   "version": "3.11.3"
  }
 },
 "nbformat": 4,
 "nbformat_minor": 2
}
