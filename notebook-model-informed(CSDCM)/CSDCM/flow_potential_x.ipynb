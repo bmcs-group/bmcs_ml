{
 "cells": [
  {
   "cell_type": "code",
   "execution_count": null,
   "id": "c03ddb5b-5ea2-4b01-9d60-1e626a638134",
   "metadata": {},
   "outputs": [],
   "source": [
    "import sympy as sp\n",
    "sp.init_printing()\n",
    "from cymbol import Cymbol"
   ]
  },
  {
   "cell_type": "code",
   "execution_count": null,
   "id": "01476b51-ab79-49e7-ab85-f77dec9bf2c7",
   "metadata": {},
   "outputs": [],
   "source": [
    "E_T = Cymbol(r'E_{\\mathrm{T}}', codename='E_T_', real=True, nonnegative=True)\n",
    "S_T = Cymbol(r'S_{\\mathrm{T}}', codename='S_T_', real=True, nonnegative=True)\n",
    "r_T = Cymbol(r'r_{\\mathrm{T}}', codename='r_T_', real=True, nonnegative=True)\n",
    "c_T = Cymbol(r'c_{\\mathrm{T}}', codename='c_T_', real=True, nonnegative=True)\n",
    "E_N = Cymbol(r'E_{\\mathrm{N}}', codename='E_N_', real=True, nonnegative=True)\n",
    "S_N = Cymbol(r'S_{\\mathrm{N}}', codename='S_N_', real=True, nonnegative=True)\n",
    "r_N = Cymbol(r'r_{\\mathrm{N}}', codename='r_N_', real=True, nonnegative=True)\n",
    "c_N = Cymbol(r'c_{\\mathrm{N}}', codename='c_N_', real=True, nonnegative=True)\n",
    "eta = Cymbol(r'\\eta', codename='eta_', real=True, nonnegative=True)\n",
    "r = Cymbol(r'r', codename='r_', real=True, nonnegative=True)"
   ]
  },
  {
   "cell_type": "code",
   "execution_count": null,
   "id": "5c0211cb-053d-4f02-bd05-684bdeac7f6a",
   "metadata": {},
   "outputs": [],
   "source": [
    "omega_T = Cymbol(r'\\omega_{\\mathrm{T}}', codename='omega_T_', real=True, nonnegative=True)\n",
    "omega_N = Cymbol(r'\\omega_{\\mathrm{N}}', codename='omega_N_', real=True, nonnegative=True)"
   ]
  },
  {
   "cell_type": "code",
   "execution_count": null,
   "id": "85a95dea-eac8-418f-95ec-f37303018cb1",
   "metadata": {},
   "outputs": [],
   "source": [
    "Y_T = Cymbol(r'Y_{\\mathrm{T}}', codename='Y_T_', real=True, nonnegative=True)\n",
    "Y_N = Cymbol(r'Y_{\\mathrm{N}}', codename='Y_N_', real=True, nonnegative=True)"
   ]
  },
  {
   "cell_type": "code",
   "execution_count": null,
   "id": "8c717999-f016-46b9-97d0-548a041a3804",
   "metadata": {},
   "outputs": [],
   "source": [
    "S_NT = sp.sqrt(S_N*S_T)\n",
    "c_NT = sp.sqrt(c_N*c_T)"
   ]
  },
  {
   "cell_type": "code",
   "execution_count": null,
   "id": "e5890ece-7ba6-4e03-99f0-dbd02cd6f9ff",
   "metadata": {},
   "outputs": [],
   "source": [
    "omega_NT = 1 - sp.sqrt((1-omega_N)*(1-omega_T))"
   ]
  },
  {
   "cell_type": "code",
   "execution_count": null,
   "id": "dfd519d6-099e-4b18-9bdd-b015376760c3",
   "metadata": {},
   "outputs": [],
   "source": [
    "phi_N = (1 - omega_N)**c_N * S_N / (r+1) * (Y_N / S_N)**(r+1) \n",
    "phi_N"
   ]
  },
  {
   "cell_type": "code",
   "execution_count": null,
   "id": "3a1acc2f-13d3-4439-81a5-5239920c6bdf",
   "metadata": {},
   "outputs": [],
   "source": [
    "phi_T = (1 - omega_T)**c_T * S_T / (r+1) * (Y_T / S_T)**(r+1) \n",
    "phi_T"
   ]
  },
  {
   "cell_type": "code",
   "execution_count": null,
   "id": "6f191c18-3670-4a18-a1fc-14d9adbc3b73",
   "metadata": {},
   "outputs": [],
   "source": [
    "phi_NT = (1 - omega_NT)**c_NT * S_NT / (r+1) * ((Y_N + Y_T)/(S_NT))**(r+1)\n",
    "phi_NT"
   ]
  },
  {
   "cell_type": "code",
   "execution_count": null,
   "id": "b8be0871-31a7-4b0b-9291-0114ed69ee4d",
   "metadata": {},
   "outputs": [],
   "source": [
    "phi = (1 - eta)*(phi_N + phi_T) + eta*phi_NT"
   ]
  },
  {
   "cell_type": "code",
   "execution_count": null,
   "id": "9194af2e-94e9-47bc-a313-bc6c85ec3bd6",
   "metadata": {},
   "outputs": [],
   "source": [
    "dot_omega_N = phi.diff(Y_N)\n",
    "dot_omega_T = phi.diff(Y_T)"
   ]
  },
  {
   "cell_type": "code",
   "execution_count": null,
   "id": "8b863f2e-0e0e-4499-a6e3-06aaed2ebdbd",
   "metadata": {},
   "outputs": [],
   "source": [
    "sp.simplify(dot_omega_N.subs(eta, 0))"
   ]
  },
  {
   "cell_type": "code",
   "execution_count": null,
   "id": "9b3dc9be-fd1b-484e-aba1-d49b09448ad0",
   "metadata": {},
   "outputs": [],
   "source": [
    "sp.simplify(dot_omega_T.subs(eta, 0))"
   ]
  },
  {
   "cell_type": "code",
   "execution_count": null,
   "id": "8a3182b2-8594-4b7c-9e2b-89d5bf0d1df5",
   "metadata": {},
   "outputs": [],
   "source": [
    "sp.simplify(dot_omega_N.subs(eta, 1))"
   ]
  },
  {
   "cell_type": "code",
   "execution_count": null,
   "id": "77dd7491-50df-45ba-8361-ee4365179d2d",
   "metadata": {},
   "outputs": [],
   "source": [
    "sp.simplify(dot_omega_T.subs(eta, 1))"
   ]
  },
  {
   "cell_type": "code",
   "execution_count": null,
   "id": "353edbcf-7724-4ce3-9938-d09edddf5bb8",
   "metadata": {},
   "outputs": [],
   "source": []
  }
 ],
 "metadata": {
  "kernelspec": {
   "display_name": "bmcs_env",
   "language": "python",
   "name": "bmcs_env"
  },
  "language_info": {
   "codemirror_mode": {
    "name": "ipython",
    "version": 3
   },
   "file_extension": ".py",
   "mimetype": "text/x-python",
   "name": "python",
   "nbconvert_exporter": "python",
   "pygments_lexer": "ipython3"
  }
 },
 "nbformat": 4,
 "nbformat_minor": 5
}
