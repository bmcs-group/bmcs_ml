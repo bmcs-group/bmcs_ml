{
 "cells": [
  {
   "cell_type": "code",
   "execution_count": null,
   "metadata": {},
   "outputs": [],
   "source": [
    "import numpy as np\n",
    "import matplotlib.pyplot as plt\n",
    "from pathlib import Path\n",
    "from bmcs_cross_section.api import AnaFRPBending"
   ]
  },
  {
   "cell_type": "markdown",
   "metadata": {},
   "source": []
  },
  {
   "cell_type": "code",
   "execution_count": null,
   "metadata": {},
   "outputs": [],
   "source": [
    "def g(b, d):\n",
    "    # b, d in mm\n",
    "    f_cm = 50 #MPa\n",
    "    Mu = f_cm*(b)*(d)**2\n",
    "    return Mu \n",
    "\n",
    "\n",
    "b_range = np.linspace(0, 500, 100)  # Width (mm)\n",
    "d_range = np.linspace(0, 500, 100)  # Depth (mm)\n",
    "\n",
    "x, y = np.meshgrid(b_range, d_range)\n",
    "\n",
    "fig = plt.figure(figsize=(25, 10))\n",
    "ax1 = fig.add_subplot(131, projection='3d')\n",
    "ax2 = fig.add_subplot(132, projection='3d')\n",
    "ax3 = fig.add_subplot(133)\n",
    "ax1.set_xlabel('width (mm)')\n",
    "ax1.set_ylabel('depth (mm)')\n",
    "ax1.set_zlabel('Mu (N.m)')\n",
    "ax2.set_xlabel('width (mm)')\n",
    "ax2.set_ylabel('depth (mm)')\n",
    "ax2.set_zlabel('Mu (N.m)')\n",
    "ax3.set_xlabel('width (mm)')\n",
    "ax3.set_ylabel('depth (mm)')\n",
    "\n",
    "target_Mu = [1.5e+9, 4e+9]\n",
    "colors = ['r', 'g', 'm', 'k']\n",
    "\n",
    "z = np.array([[g(b, d) for b in b_range] for d in d_range])\n",
    "ax1.plot_surface(x, y, z, color='b', alpha=0.2)\n",
    "cmap = plt.cm.get_cmap('viridis')\n",
    "ax1.contourf(x, y, z, zdir='x', offset=0, cmap=cmap , alpha=0.3)\n",
    "ax1.contourf(x, y, z, zdir='y', offset=550, cmap=cmap, alpha=0.3)\n",
    "ax1.contourf(x, y, z, zdir='z', offset=550, cmap=cmap, alpha=0.3)\n",
    "\n",
    "for index, target_z_value in enumerate(target_Mu):\n",
    "    ax1.contour3D(x, y, z, levels=[target_z_value], colors=colors[index])\n",
    "    ax2.contour3D(x, y, z, levels=[target_z_value], colors=colors[index])\n",
    "    contour=ax3.contour(x, y, z, levels=[target_z_value], colors=colors[index])\n",
    "        \n",
    "plt.show()\n"
   ]
  }
 ],
 "metadata": {
  "kernelspec": {
   "display_name": "Python 3",
   "language": "python",
   "name": "python3"
  },
  "language_info": {
   "codemirror_mode": {
    "name": "ipython",
    "version": 3
   },
   "file_extension": ".py",
   "mimetype": "text/x-python",
   "name": "python",
   "nbconvert_exporter": "python",
   "pygments_lexer": "ipython3"
  }
 },
 "nbformat": 4,
 "nbformat_minor": 2
}
