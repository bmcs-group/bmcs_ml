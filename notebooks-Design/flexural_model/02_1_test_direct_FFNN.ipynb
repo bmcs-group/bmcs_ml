{
 "cells": [
  {
   "cell_type": "markdown",
   "metadata": {},
   "source": [
    "# Construction of FFNN \n",
    "Here, we build a Feedforward Neural Network (FFNN) designed to predict the design space given a desired moment capacity. "
   ]
  },
  {
   "cell_type": "code",
   "execution_count": null,
   "metadata": {},
   "outputs": [],
   "source": [
    "%matplotlib widget\n",
    "import numpy as np\n",
    "import matplotlib.pyplot as plt\n",
    "from mpl_toolkits.mplot3d import Axes3D\n",
    "import tensorflow as tf\n",
    "from keras.utils import plot_model\n",
    "from tensorflow.keras.models import Sequential\n",
    "from tensorflow.keras.layers import Dense\n",
    "from tensorflow.keras.models import save_model\n",
    "from pathlib import Path"
   ]
  },
  {
   "cell_type": "code",
   "execution_count": null,
   "metadata": {},
   "outputs": [],
   "source": [
    "home_dir = Path().home()\n",
    "ml_data = home_dir / 'ml_data'\n",
    "if not ml_data.exists():\n",
    "    ml_data.mkdir()"
   ]
  },
  {
   "cell_type": "markdown",
   "metadata": {},
   "source": [
    "## Defining the neural network model with arbitrary hyperparameters (64,32) and ReLU activation function."
   ]
  },
  {
   "cell_type": "code",
   "execution_count": null,
   "metadata": {},
   "outputs": [],
   "source": [
    "# Define the neural network model\n",
    "\n",
    "model = Sequential([\n",
    "    Dense(64, activation='relu', input_shape=(1,)),  # Input layer with 1 neuron\n",
    "    Dense(32, activation='relu'),  # Hidden layer with 32 neurons\n",
    "    Dense(3)  # Output layer with 3 neurons\n",
    "])\n",
    "\n",
    "# Compile the model\n",
    "model.compile(optimizer='adam', loss='mse')  # Using mean squared error loss and Adam optimizer\n",
    "\n"
   ]
  },
  {
   "cell_type": "markdown",
   "metadata": {},
   "source": [
    "## Training the FFNN, plotting Model Training Loss curve and saving Trained Model"
   ]
  },
  {
   "cell_type": "code",
   "execution_count": null,
   "metadata": {},
   "outputs": [],
   "source": [
    "# Train the model\n",
    "\n",
    "history = model.fit(moment_capacity, Design_space, epochs=100, batch_size=16, verbose=0)\n",
    "model.save( ml_data / 'trained_model.h5')\n"
   ]
  },
  {
   "cell_type": "code",
   "execution_count": null,
   "metadata": {},
   "outputs": [],
   "source": [
    "from keras.models import load_model\n",
    "model = load_model(ml_data / 'trained_model.h5')\n",
    "# Print the training history\n",
    "print(model) \n",
    "# Plot training loss\n",
    "plt.plot(model.history.history['loss'])\n",
    "plt.title('Model Training Loss')\n",
    "plt.xlabel('Epochs')\n",
    "plt.ylabel('Loss')\n",
    "plt.show()"
   ]
  },
  {
   "cell_type": "markdown",
   "metadata": {},
   "source": [
    "## Testing the trained FFNN on the nodes within the training space."
   ]
  },
  {
   "cell_type": "code",
   "execution_count": null,
   "metadata": {},
   "outputs": [],
   "source": [
    "from tensorflow.keras.models import load_model\n",
    "model = load_model('trained_model.h5')\n",
    "\n",
    "# picking 7 row from the data\n",
    "step_size = Design_space.shape[0]//7\n",
    "\n",
    "# selected actual design parameters associated with moment capacity .\n",
    "selected_actual_params= Design_space[::step_size]\n",
    "moment_capacity_test = moment_capacity[::step_size] # New input data for prediction\n",
    "\n",
    "# print(selected_actual_params)\n",
    "# print(moment_capacity_test)\n",
    "\n",
    "# Predict on new data\n",
    "moment_capacity_test = moment_capacity_test\n",
    "\n",
    "Designe_pred = model.predict(moment_capacity_test)\n",
    "\n",
    "# print(Designe_pred)\n",
    "\n",
    "\n"
   ]
  },
  {
   "cell_type": "markdown",
   "metadata": {},
   "source": [
    "## Visualizing the accuracy of FFNN predictions."
   ]
  },
  {
   "cell_type": "code",
   "execution_count": null,
   "metadata": {},
   "outputs": [],
   "source": [
    "\n",
    "# Calculate the absolute errors for each predicted parameter\n",
    "errors_width = 100*np.abs(selected_actual_params[:, 0] - Designe_pred[:, 0])/selected_actual_params[:, 0]\n",
    "errors_height = 100*np.abs(selected_actual_params[:, 1] - Designe_pred[:, 1])/selected_actual_params[:, 1]\n",
    "errors_reinforcement = 100*np.abs(selected_actual_params[:, 2] - Designe_pred[:, 2])/selected_actual_params[:, 2]\n",
    "\n",
    "# Plot the absolute errors for each predicted parameter\n",
    "plt.figure(figsize=(12, 6))\n",
    "\n",
    "# Width\n",
    "plt.subplot(1, 3, 1)\n",
    "plt.scatter(moment_capacity_test, errors_width, color='blue')\n",
    "plt.xlabel('Moment Capacity')\n",
    "plt.ylabel('Relative Error for Width')\n",
    "plt.title('Relative Error for Width')\n",
    "\n",
    "# Height\n",
    "plt.subplot(1, 3, 2)\n",
    "plt.scatter(moment_capacity_test, errors_height, color='red')\n",
    "plt.xlabel('Moment Capacity')\n",
    "plt.ylabel('Relative Error for Height')\n",
    "plt.title('Relative Error for Height')\n",
    "\n",
    "# Reinforcement ratio\n",
    "plt.subplot(1, 3, 3)\n",
    "plt.scatter(moment_capacity_test, errors_reinforcement, color='green')\n",
    "plt.xlabel('Moment Capacity')\n",
    "plt.ylabel('Relative Error for Reinforcement Ratio')\n",
    "plt.title('Relative Error for Reinforcement Ratio')\n",
    "\n",
    "plt.tight_layout()\n",
    "plt.show()\n"
   ]
  },
  {
   "cell_type": "code",
   "execution_count": null,
   "metadata": {},
   "outputs": [],
   "source": []
  }
 ],
 "metadata": {
  "kernelspec": {
   "display_name": "Python 3",
   "language": "python",
   "name": "python3"
  },
  "language_info": {
   "codemirror_mode": {
    "name": "ipython",
    "version": 3
   },
   "file_extension": ".py",
   "mimetype": "text/x-python",
   "name": "python",
   "nbconvert_exporter": "python",
   "pygments_lexer": "ipython3"
  }
 },
 "nbformat": 4,
 "nbformat_minor": 2
}
