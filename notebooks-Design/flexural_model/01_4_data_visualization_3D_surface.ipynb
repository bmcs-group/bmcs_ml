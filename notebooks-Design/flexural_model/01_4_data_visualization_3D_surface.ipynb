{
 "cells": [
  {
   "cell_type": "code",
   "execution_count": 1,
   "metadata": {},
   "outputs": [
    {
     "ename": "ModuleNotFoundError",
     "evalue": "No module named 'bmcs_cross_section'",
     "output_type": "error",
     "traceback": [
      "\u001b[1;31m---------------------------------------------------------------------------\u001b[0m",
      "\u001b[1;31mModuleNotFoundError\u001b[0m                       Traceback (most recent call last)",
      "Cell \u001b[1;32mIn[1], line 4\u001b[0m\n\u001b[0;32m      2\u001b[0m \u001b[38;5;28;01mimport\u001b[39;00m\u001b[38;5;250m \u001b[39m\u001b[38;5;21;01mmatplotlib\u001b[39;00m\u001b[38;5;21;01m.\u001b[39;00m\u001b[38;5;21;01mpyplot\u001b[39;00m\u001b[38;5;250m \u001b[39m\u001b[38;5;28;01mas\u001b[39;00m\u001b[38;5;250m \u001b[39m\u001b[38;5;21;01mplt\u001b[39;00m\n\u001b[0;32m      3\u001b[0m \u001b[38;5;28;01mfrom\u001b[39;00m\u001b[38;5;250m \u001b[39m\u001b[38;5;21;01mpathlib\u001b[39;00m\u001b[38;5;250m \u001b[39m\u001b[38;5;28;01mimport\u001b[39;00m Path\n\u001b[1;32m----> 4\u001b[0m \u001b[38;5;28;01mfrom\u001b[39;00m\u001b[38;5;250m \u001b[39m\u001b[38;5;21;01mbmcs_cross_section\u001b[39;00m\u001b[38;5;21;01m.\u001b[39;00m\u001b[38;5;21;01mapi\u001b[39;00m\u001b[38;5;250m \u001b[39m\u001b[38;5;28;01mimport\u001b[39;00m AnaFRPBending\n",
      "\u001b[1;31mModuleNotFoundError\u001b[0m: No module named 'bmcs_cross_section'"
     ]
    }
   ],
   "source": [
    "import numpy as np\n",
    "import matplotlib.pyplot as plt\n",
    "from pathlib import Path\n",
    "from bmcs_cross_section.api import AnaFRPBending"
   ]
  },
  {
   "cell_type": "markdown",
   "metadata": {},
   "source": [
    "### b. 3D_surface visualization of the design space classified by different reinforcment ratios "
   ]
  },
  {
   "cell_type": "code",
   "execution_count": null,
   "metadata": {},
   "outputs": [],
   "source": [
    "\n",
    "\n",
    "\n",
    "\n",
    "# Define ultimate moment capacity function \n",
    "def f(p, b, d):\n",
    "    A_f = p * b * d / 100\n",
    "    Mu = AnaFRPBending(A_f=A_f, f_cm = 50, E_f = 70000, f_fu = 900, b=b, d=d).M_u\n",
    "    return Mu\n",
    "\n",
    "# Generate input values\n",
    "p_range = np.linspace(0.1, 2, 500)   # rainforcement ratio (Percent)\n",
    "b_range = np.linspace(50, 500, 100)  # Width (mm)\n",
    "d_range = np.linspace(50, 500, 100)  # Depth (mm)\n",
    "x, y = np.meshgrid(b_range, d_range)\n",
    "\n",
    "fig = plt.figure(figsize=(25, 10))\n",
    "ax1 = fig.add_subplot(131, projection='3d')\n",
    "ax2 = fig.add_subplot(132, projection='3d')\n",
    "ax3 = fig.add_subplot(133)\n",
    "ax1.set_xlabel('Width (mm)')\n",
    "ax1.set_ylabel('Depth (mm)')\n",
    "ax1.set_zlabel('Moment Capacity (KNm)')\n",
    "ax1.set_title('Reinforcement Ratio Surfaces')\n",
    "ax2.set_xlabel('Width (mm)')\n",
    "ax2.set_ylabel('Depth (mm)')\n",
    "ax2.set_zlabel('Normalized Moment Capacity (KNm)')\n",
    "ax2.set_title('Admissible Surfaces')\n",
    "ax3.set_xlabel('Width (mm)')\n",
    "ax3.set_ylabel('Depth (mm)')\n",
    "ax3.set_title('Admissible lines')\n",
    "\n",
    "step_to_plot = 1\n",
    "target_Mu = [150, 400, 600, 900]\n",
    "colors = ['r', 'g', 'm', 'k']\n",
    "\n",
    "for i, p in enumerate(p_range[::step_to_plot]):\n",
    "    z = np.array([[f(p, b, d) for b in b_range] for d in d_range])\n",
    "    ax1.plot_surface(x, y, z, color='b', alpha=0.1)\n",
    "    cmap = plt.cm.get_cmap('viridis', len(p_range[::step_to_plot]))\n",
    "    # ax2.contourf(x, y, z, zdir='z', offset=0, cmap=cmap)\n",
    "    ax1.contourf(x, y, z, zdir='x', offset=0, cmap=cmap , alpha=0.1)\n",
    "    ax1.contourf(x, y, z, zdir='y', offset=550, cmap=cmap, alpha=0.1)\n",
    "    for index, target_z_value in enumerate(target_Mu):\n",
    "        # ax1.plot_surface(x, y, z, color=colors[i], alpha=0.6)\n",
    "        ax1.contour3D(x, y, z, levels=[target_z_value], colors=colors[index])\n",
    "        ax2.contour3D(x, y, z, levels=[target_z_value], colors=colors[index])\n",
    "        ax3.contour(x, y, z, levels=[target_z_value], colors=colors[index])\n",
    "        \n",
    "plt.show()\n"
   ]
  }
 ],
 "metadata": {
  "kernelspec": {
   "display_name": "bmcs_env",
   "language": "python",
   "name": "python3"
  },
  "language_info": {
   "codemirror_mode": {
    "name": "ipython",
    "version": 3
   },
   "file_extension": ".py",
   "mimetype": "text/x-python",
   "name": "python",
   "nbconvert_exporter": "python",
   "pygments_lexer": "ipython3",
   "version": "3.13.1"
  }
 },
 "nbformat": 4,
 "nbformat_minor": 2
}
