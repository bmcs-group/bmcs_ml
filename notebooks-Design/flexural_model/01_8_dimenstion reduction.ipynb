{
 "cells": [
  {
   "cell_type": "code",
   "execution_count": null,
   "metadata": {},
   "outputs": [],
   "source": [
    "import numpy as np\n",
    "import matplotlib.pyplot as plt\n",
    "from pathlib import Path\n",
    "from bmcs_cross_section.api import AnaFRPBending"
   ]
  },
  {
   "cell_type": "code",
   "execution_count": null,
   "metadata": {},
   "outputs": [],
   "source": [
    "import numpy as np\n",
    "import plotly.graph_objects as go\n",
    "\n",
    "\n",
    "class AnaFRPBending:\n",
    "    def __init__(self, A_f, f_cm, E_f, f_fu, b, d):\n",
    "        self.M_u = A_f * (f_cm / 10) * (E_f / 1000) * (f_fu / 100) * (b / 10) * (d / 10)\n",
    "\n",
    "def f(p, b, d):\n",
    "    A_f = p * b * d / 100\n",
    "    Mu = AnaFRPBending(A_f=A_f, f_cm=50, E_f=70000, f_fu=900, b=b, d=d).M_u\n",
    "    return Mu\n",
    "\n",
    "\n",
    "b_range = np.linspace(0, 10, 50)\n",
    "d_range = np.linspace(0, 10, 50)\n",
    "p_range = np.linspace(0, 10, 50)\n",
    "\n",
    "b_mesh, d_mesh, p_mesh = np.meshgrid(b_range, d_range, p_range)\n",
    "Mu_values = f(p_mesh, b_mesh, d_mesh)  \n",
    "\n",
    "fig = go.Figure(data=go.Volume(\n",
    "    x=b_mesh.flatten(),\n",
    "    y=d_mesh.flatten(),\n",
    "    z=p_mesh.flatten(),\n",
    "    value=Mu_values.flatten(),\n",
    "    isomin=np.min(Mu_values),\n",
    "    isomax=np.max(Mu_values),\n",
    "    opacity=0.1,  \n",
    "    surface_count=20,  # Number of isosurfaces\n",
    "    colorscale='Viridis'\n",
    "))\n",
    "   \n",
    "fig.update_layout(scene=dict(\n",
    "    xaxis_title='b',\n",
    "    yaxis_title='d',\n",
    "    zaxis_title='p'\n",
    "))\n",
    "\n",
    "fig.show()\n"
   ]
  },
  {
   "cell_type": "code",
   "execution_count": null,
   "metadata": {},
   "outputs": [],
   "source": [
    "import numpy as np\n",
    "import plotly.graph_objects as go\n",
    "\n",
    "# Define the grid\n",
    "u = np.linspace(0, np.pi/2, 100)  # Range for one-quarter of the ellipsoid\n",
    "v = np.linspace(0, np.pi/2, 100)  # Range for one-quarter of the ellipsoid\n",
    "u, v = np.meshgrid(u, v)\n",
    "\n",
    "# Define the semi-principal axes\n",
    "a, b, c = 2, 1, 3\n",
    "\n",
    "# Parametric equations for the ellipsoid surface\n",
    "x = a * np.cos(u) * np.sin(v)\n",
    "y = b * np.sin(u) * np.sin(v)\n",
    "z = c * np.cos(v)\n",
    "\n",
    "# Create the 3D surface plot\n",
    "fig = go.Figure(data=[go.Surface(x=x, y=y, z=z, colorscale='Viridis')])\n",
    "\n",
    "# Update layout for better visualization\n",
    "fig.update_layout(\n",
    "    scene=dict(\n",
    "        xaxis_title='X-axis',\n",
    "        yaxis_title='Y-axis',\n",
    "        zaxis_title='Z-axis',\n",
    "        aspectratio=dict(x=1, y=1, z=1),\n",
    "        camera_eye=dict(x=1.2, y=1.2, z=0.6)\n",
    "    ),\n",
    "    title='One-Quarter of the Ellipsoid Surface',\n",
    ")\n",
    "\n",
    "# Show the plot\n",
    "fig.show()\n"
   ]
  }
 ],
 "metadata": {
  "kernelspec": {
   "display_name": "Python 3",
   "language": "python",
   "name": "python3"
  },
  "language_info": {
   "codemirror_mode": {
    "name": "ipython",
    "version": 3
   },
   "file_extension": ".py",
   "mimetype": "text/x-python",
   "name": "python",
   "nbconvert_exporter": "python",
   "pygments_lexer": "ipython3"
  }
 },
 "nbformat": 4,
 "nbformat_minor": 2
}
