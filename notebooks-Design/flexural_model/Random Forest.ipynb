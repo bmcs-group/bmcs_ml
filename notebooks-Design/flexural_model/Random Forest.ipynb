{
 "cells": [
  {
   "cell_type": "markdown",
   "metadata": {},
   "source": [
    "# Construction of FFNN based on normalized training space\n",
    "Upon stabilization and convergence of the model training loss curve to a non small number, normalization becomes imperative to homogenize the training space. Here, the training procedure is reiterated on a normalized training space employing two methods, namely min-max and Z-score normalization. "
   ]
  },
  {
   "cell_type": "code",
   "execution_count": null,
   "metadata": {},
   "outputs": [],
   "source": [
    "import numpy as np\n",
    "import matplotlib.pyplot as plt\n",
    "from mpl_toolkits.mplot3d import Axes3D\n",
    "import tensorflow as tf\n",
    "from tensorflow.keras.models import Sequential\n",
    "from tensorflow.keras.layers import Dense\n",
    "from tensorflow.keras.models import save_model\n",
    "from pathlib import Path"
   ]
  },
  {
   "cell_type": "markdown",
   "metadata": {},
   "source": [
    "making home directory if it doesn't exist"
   ]
  },
  {
   "cell_type": "code",
   "execution_count": null,
   "metadata": {},
   "outputs": [],
   "source": [
    "home_dir = Path().home()\n",
    "ml_data = home_dir / 'ml_data'\n",
    "if not ml_data.exists():\n",
    "    ml_data.mkdir()"
   ]
  },
  {
   "cell_type": "markdown",
   "metadata": {},
   "source": [
    "## Loading the training space and normalizing \n"
   ]
  },
  {
   "cell_type": "markdown",
   "metadata": {},
   "source": [
    "Loading data which is already generated:"
   ]
  },
  {
   "cell_type": "code",
   "execution_count": null,
   "metadata": {},
   "outputs": [],
   "source": [
    "Design_space = np.load(ml_data / 'Design_space2.npy')\n",
    "moment_capacity = np.load(ml_data / 'Mu2.npy')"
   ]
  },
  {
   "cell_type": "markdown",
   "metadata": {},
   "source": [
    "Normalization of input data for training a neural network is a crucial preprocessing step that ensures stable and efficient training. It involves scaling the input features to a similar range, typically between 0 and 1 or with zero mean and unit variance. This helps prevent certain features from dominating the learning process and can accelerate convergence during training. Here's how we can normalize input data for training the neural network using min-max normalization and Z-score normalization:\n",
    "1. Min-Max Normalization: Min-max normalization scales the input features to a fixed range, typically between 0 and 1.\n",
    "$$\n",
    "x_{\\text {norm }}=\\frac{x-\\min (x)}{\\max (x)-\\min (x)}\n",
    "$$\n"
   ]
  },
  {
   "cell_type": "code",
   "execution_count": null,
   "metadata": {},
   "outputs": [],
   "source": [
    "# Min-Max Normalization\n",
    "Design_space_normalized_min_max = (Design_space - np.min(Design_space, axis=0)) / (np.max(Design_space, axis=0) - np.min(Design_space, axis=0))\n",
    "moment_capacity_normalized_min_max = (moment_capacity - np.min(moment_capacity, axis=0)) / (np.max(moment_capacity, axis=0) - np.min(moment_capacity, axis=0))"
   ]
  },
  {
   "cell_type": "markdown",
   "metadata": {},
   "source": [
    "2. Z-score Normalization: Z-score normalization (also known as standardization) scales the input features to have a mean of 0 and a standard deviation of 1 .\n",
    "$$\n",
    "x_{\\text {norm }}=\\frac{x-\\operatorname{mean}(x)}{\\operatorname{std}(x)}\n",
    "$$"
   ]
  },
  {
   "cell_type": "code",
   "execution_count": null,
   "metadata": {},
   "outputs": [],
   "source": [
    "# Z-score Normalization:\n",
    "Design_space_normalized_z_score = (Design_space - np.mean(Design_space, axis=0)) / np.std(Design_space, axis=0)\n",
    "moment_capacity_normalized_z_score = (moment_capacity - np.mean(moment_capacity, axis=0)) / np.std(moment_capacity, axis=0)"
   ]
  },
  {
   "cell_type": "markdown",
   "metadata": {},
   "source": [
    "## Visualization of the admissible design space for defined moment capacity"
   ]
  },
  {
   "cell_type": "code",
   "execution_count": null,
   "metadata": {},
   "outputs": [],
   "source": [
    "import numpy as np\n",
    "import matplotlib.pyplot as plt\n",
    "from mpl_toolkits.mplot3d import Axes3D\n",
    "\n",
    "fig = plt.figure(figsize=(25, 10))\n",
    "ax1 = fig.add_subplot(121, projection='3d')\n",
    "ax2 = fig.add_subplot(122, projection='3d')\n",
    "ax1.set_xlabel('Width (mm)')\n",
    "ax1.set_ylabel('Height (mm)')\n",
    "ax1.set_zlabel('Moment Capacity')\n",
    "ax1.set_title('Reinforcement Ratio Surface')\n",
    "ax2.set_xlabel('Width (mm)')\n",
    "ax2.set_ylabel('Height (mm)')\n",
    "ax2.set_zlabel('Moment Capacity')\n",
    "ax2.set_title('Reinforcement Ratio Surface')\n",
    "\n",
    "def plot_points_within_tolerance(Design_space_normalized_min_max, moment_capacity_normalized_min_max, target_z_value, tolerance, step_reinforcement, ax1, ax2):\n",
    "    index=0\n",
    "    for i in np.unique(Design_space_normalized_min_max[:, 0])[::step_reinforcement]:\n",
    "        subset = Design_space_normalized_min_max[Design_space_normalized_min_max[:, 0] == i]\n",
    "        z_values = np.array(moment_capacity_normalized_min_max[Design_space_normalized_min_max[:, 0] == i])\n",
    "        for target_z_value in target_z_values:\n",
    "            within_tolerance = np.isclose(z_values, target_z_value, rtol=tolerance)\n",
    "            colors = ['red' if val else 'blue' for val in within_tolerance]\n",
    "            red_indices = np.where(within_tolerance)[0]  # Get indices of red points\n",
    "            # ax1 plots whole design space including inadmissible design space in blue and admissible in red\n",
    "            ax1.scatter(subset[:, 1], subset[:, 2], z_values, label=f\"Set {int(i)}\", color=colors, alpha=0.1, s=5)\n",
    "            # ax2 plots only the admissible design space linked by defined moment capacity in red\n",
    "            ax2.scatter(subset[red_indices, 1], subset[red_indices, 2], z_values[red_indices], label=f\"Set {int(i)}\", color='red', alpha=0.1, s=1)\n",
    "        # index += 1\n",
    "        # if index == 50:\n",
    "        #     break\n",
    "target_z_values = [0.1, 0.25, 0.5, 0.8]\n",
    "tolerance = 0.01\n",
    "plot_step_for_reinforcement_ratio = 1\n",
    "\n",
    "\n",
    "plot_points_within_tolerance(Design_space_normalized_min_max, moment_capacity_normalized_min_max, target_z_values, tolerance, plot_step_for_reinforcement_ratio, ax1, ax2)\n",
    "\n",
    "plt.show()"
   ]
  },
  {
   "cell_type": "code",
   "execution_count": null,
   "metadata": {},
   "outputs": [],
   "source": [
    "from sklearn.model_selection import train_test_split\n",
    "from sklearn.ensemble import RandomForestRegressor\n",
    "\n",
    "import numpy as np\n",
    "\n",
    "\n",
    "X = Design_space_normalized_min_max\n",
    "y = moment_capacity_normalized_min_max\n",
    "\n",
    "# Split into training and test sets\n",
    "X_train, X_test, y_train, y_test = train_test_split(X, y, test_size=0.2, random_state=42)\n",
    "\n",
    "# Train a regression model\n",
    "model = RandomForestRegressor(n_estimators=100, random_state=42)\n",
    "model.fit(X_train, y_train)\n"
   ]
  },
  {
   "cell_type": "code",
   "execution_count": null,
   "metadata": {},
   "outputs": [],
   "source": [
    "# Desired moment capacity value and tolerance\n",
    "desired_moment_capacity = 0.5\n",
    "tolerance = 0.01\n",
    "\n",
    "num_samples = 10000\n",
    "samples = np.random.uniform(low=X.min(axis=0), high=X.max(axis=0), size=(num_samples, X.shape[1]))\n",
    "\n",
    "predicted_moment_capacities = model.predict(samples)\n",
    "\n",
    "admissible_inputs = samples[(predicted_moment_capacities >= desired_moment_capacity * (1 - tolerance)) &\n",
    "                            (predicted_moment_capacities <= desired_moment_capacity * (1 + tolerance))]\n",
    "\n",
    "print(f'Number of admissible inputs: {len(admissible_inputs)}')\n"
   ]
  },
  {
   "cell_type": "code",
   "execution_count": null,
   "metadata": {},
   "outputs": [],
   "source": [
    "import matplotlib.pyplot as plt\n",
    "\n",
    "# Validate admissible inputs by predicting moment capacities\n",
    "validated_outputs = model.predict(admissible_inputs)\n",
    "\n",
    "# Print some examples of admissible inputs and their corresponding moment capacities\n",
    "for i in range(min(10, len(admissible_inputs))):\n",
    "    print(f'Admissible input: {admissible_inputs[i]}, Predicted moment capacity: {validated_outputs[i]}')\n",
    "\n",
    "# Visualize the admissible inputs\n",
    "fig = plt.figure()\n",
    "ax = fig.add_subplot(111, projection='3d')\n",
    "ax.scatter(admissible_inputs[:, 0], admissible_inputs[:, 1], admissible_inputs[:, 2])\n",
    "ax.set_xlabel('Input 1')\n",
    "ax.set_ylabel('Input 2')\n",
    "ax.set_zlabel('Input 3')\n",
    "plt.show()\n"
   ]
  }
 ],
 "metadata": {
  "kernelspec": {
   "display_name": "Python 3",
   "language": "python",
   "name": "python3"
  },
  "language_info": {
   "codemirror_mode": {
    "name": "ipython",
    "version": 3
   },
   "file_extension": ".py",
   "mimetype": "text/x-python",
   "name": "python",
   "nbconvert_exporter": "python",
   "pygments_lexer": "ipython3"
  }
 },
 "nbformat": 4,
 "nbformat_minor": 2
}
