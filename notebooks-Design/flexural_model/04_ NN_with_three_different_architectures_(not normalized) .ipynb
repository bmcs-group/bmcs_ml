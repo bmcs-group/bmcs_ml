{
 "cells": [
  {
   "cell_type": "code",
   "execution_count": null,
   "metadata": {},
   "outputs": [],
   "source": [
    "import numpy as np\n",
    "import matplotlib.pyplot as plt\n",
    "from sklearn.model_selection import train_test_split\n",
    "from tensorflow.keras.models import Sequential, save_model\n",
    "from tensorflow.keras.layers import Dense, Dropout\n",
    "from tensorflow.keras.optimizers import Adam"
   ]
  },
  {
   "cell_type": "code",
   "execution_count": null,
   "metadata": {},
   "outputs": [],
   "source": [
    "# Load data\n",
    "Design_space = np.load('Design_space.npy')\n",
    "moment_capacity = np.load('Mu.npy')\n",
    "\n",
    "# Check shapes\n",
    "print(\"Design_space shape:\", Design_space.shape)\n",
    "print(\"moment_capacity shape:\", moment_capacity.shape)\n",
    "\n",
    "# Reshape moment_capacity if necessary\n",
    "if len(moment_capacity.shape) == 1:  # Assuming moment_capacity is 1D\n",
    "    moment_capacity = moment_capacity.reshape(-1, 1)  # Reshape to a 2D array with one column\n",
    "\n",
    "# Split the data into training and validation sets\n",
    "X_train, X_val, y_train, y_val = train_test_split(moment_capacity, Design_space, test_size=0.2, random_state=42)\n",
    "\n",
    "# Define input and output dimensions\n",
    "input_dim = X_train.shape[1]\n",
    "output_dim = Design_space.shape[1]"
   ]
  },
  {
   "cell_type": "code",
   "execution_count": null,
   "metadata": {},
   "outputs": [],
   "source": [
    "# Define different neural network architectures\n",
    "architectures = [\n",
    "    {'layers': [64, 32], 'dropout': [0.3, 0.3]},\n",
    "    {'layers': [128, 64, 32], 'dropout': [0.5, 0.5, 0.5]},\n",
    "    {'layers': [256, 128, 64], 'dropout': [0.2, 0.3, 0.4]}\n",
    "]"
   ]
  },
  {
   "cell_type": "code",
   "execution_count": null,
   "metadata": {},
   "outputs": [],
   "source": [
    "# Train and evaluate models with different architectures\n",
    "for i, config in enumerate(architectures):\n",
    "    print(f\"Training model with architecture {i+1}...\")\n",
    "    \n",
    "    # Construct the model  ADL pass \n",
    "    model = Sequential()\n",
    "    for j, num_units in enumerate(config['layers']):\n",
    "        model.add(Dense(num_units, activation='relu', input_dim=input_dim if j == 0 else None))\n",
    "        if j < len(config['dropout']):\n",
    "            model.add(Dropout(config['dropout'][j]))\n",
    "    model.add(Dense(output_dim))\n",
    "    \n",
    "    # Compile the model\n",
    "    optimizer = Adam(learning_rate=0.001)\n",
    "    model.compile(optimizer=optimizer, loss='mse', metrics=['mae'])  # Using mean squared error loss and mean absolute error metric\n",
    "    \n",
    "    # Train the model\n",
    "    history = model.fit(X_train, y_train, validation_data=(X_val, y_val), epochs=50, batch_size=16, verbose=0)\n",
    "    \n",
    "    # Evaluate the model\n",
    "    train_loss, train_mae = model.evaluate(X_train, y_train, verbose=0)\n",
    "    val_loss, val_mae = model.evaluate(X_val, y_val, verbose=0)\n",
    "    print(f\"Model {i+1} - Train Loss: {train_loss:.4f}, Train MAE: {train_mae:.4f}, Val Loss: {val_loss:.4f}, Val MAE: {val_mae:.4f}\")\n",
    "    \n",
    "    # Plot training and validation loss\n",
    "    plt.figure(figsize=(10, 5))\n",
    "    plt.plot(history.history['loss'], label='Training Loss')\n",
    "    plt.plot(history.history['val_loss'], label='Validation Loss')\n",
    "    plt.title(f'Model {i+1} Training and Validation Loss')\n",
    "    plt.xlabel('Epochs')\n",
    "    plt.ylabel('Loss')\n",
    "    plt.legend()\n",
    "    plt.show()\n",
    "    \n",
    "    # Save the model\n",
    "    model_path = f'model_{i+1}.h5'\n",
    "    save_model(model, model_path)\n",
    "    print(f\"Model {i+1} saved as {model_path}\\n\")"
   ]
  },
  {
   "cell_type": "code",
   "execution_count": null,
   "metadata": {},
   "outputs": [],
   "source": []
  }
 ],
 "metadata": {
  "kernelspec": {
   "display_name": "Python 3",
   "language": "python",
   "name": "python3"
  },
  "language_info": {
   "codemirror_mode": {
    "name": "ipython",
    "version": 3
   },
   "file_extension": ".py",
   "mimetype": "text/x-python",
   "name": "python",
   "nbconvert_exporter": "python",
   "pygments_lexer": "ipython3"
  }
 },
 "nbformat": 4,
 "nbformat_minor": 2
}
