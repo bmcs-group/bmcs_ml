{
 "cells": [
  {
   "cell_type": "markdown",
   "metadata": {},
   "source": [
    "# Data generation (Training space)  \n",
    "\n",
    "The training space, which includes the design space and given moment capacity, is established here. The design space is built upon a 3D mesh grid equally discretized across the width, height, and reinforcement ratio dimensions, with the discretization step denoted as 'n' and spanning the defined range for each component of the design space.  The resulting mesh grid forms an n*3 matrix. The moment capacity linked to each node on this mesh grid is then calculated analytically, resulting in an n*1 matrix. Both the design space (output of NN) and moment capacity (input of NN) are saved in .npy data files for further utilization."
   ]
  },
  {
   "cell_type": "code",
   "execution_count": 6,
   "metadata": {},
   "outputs": [],
   "source": [
    "from pathlib import Path\n",
    "import numpy as np\n",
    "from bmcs_cross_section.api import AnaFRPBending\n",
    "from bmcs_cross_section.api import ACI440\n",
    "\n",
    "home_dir = Path().home()\n",
    "ml_data = home_dir / 'ml_data'\n",
    "if not ml_data.exists():\n",
    "    ml_data.mkdir()  \n",
    "    \n",
    "    "
   ]
  },
  {
   "cell_type": "code",
   "execution_count": 9,
   "metadata": {},
   "outputs": [
    {
     "name": "stdout",
     "output_type": "stream",
     "text": [
      "Size of b_mesh: (100, 301, 100)\n",
      "Size of d_mesh: (100, 301, 100)\n",
      "Size of p_mesh: (100, 301, 100)\n",
      "Size of mu_values: (100, 301, 100)\n"
     ]
    }
   ],
   "source": [
    "rho_range = np.linspace(0.01, 2, 301)  # Unit: %,  steps:0.01 %\n",
    "b_range = np.linspace(10, 1000, 100)  # unit: mm, steps: 10 mm %, should not start from 0 to avoid division by zero\n",
    "d_range = np.linspace(10, 1000, 100)  # unit: mm, steps:10 mm %, should not start from 0 to avoid division by zero\n",
    "rho_mesh, b_mesh, d_mesh = np.meshgrid(rho_range, b_range, d_range, sparse=False)\n",
    "\n",
    "@np.vectorize\n",
    "def M_u_Ana_TTC(rho, b, d): # full strength utilization\n",
    "    A_f = rho * b * d/100\n",
    "    M_u = AnaFRPBending(A_f=A_f, f_cm=50, E_f=70000, f_fu=900, b=b, d=d).M_u\n",
    "    return M_u\n",
    "\n",
    "@np.vectorize\n",
    "def Mn_ACI440 (rho,b,d):\n",
    "    A_f = rho * b * d /100\n",
    "    Mn = ACI440.get_M_n(A_f=A_f, f_fu=900, E_f=70000, f_c=50, b=b, d=d)\n",
    "    # f_c [MPa]: compressive strength of concrete (typically specified compressive strength f'c = f_ck)\n",
    "    # f_fu [MPa]: tensile strength of FRP reinf.\n",
    "    # E_f [MPa]: e-modulus of FRP reinf.\n",
    "    # Balanced FRP reinforcement ratio\n",
    "    return Mn\n",
    "\n",
    "# Calculate the mu_values\n",
    "Mn = Mn_ACI440(rho_mesh, b_mesh, d_mesh)\n",
    "M_u = M_u_Ana_TTC(rho_mesh, b_mesh, d_mesh)\n",
    "\n",
    "# Save the meshgrid arrays and Mn_values\n",
    "np.save(ml_data / 'ACI440_Mn.npy', Mn)\n",
    "np.save(ml_data / 'Ana_TTC_M_u.npy', M_u)\n",
    "np.savez(ml_data / 'designspace_meshgrid_data.npz', rho_mesh=rho_mesh, b_mesh=b_mesh, d_mesh=d_mesh)\n",
    "\n",
    "\n",
    "# 2m 40.8s "
   ]
  },
  {
   "cell_type": "code",
   "execution_count": 4,
   "metadata": {},
   "outputs": [],
   "source": [
    "rho_range = np.linspace(0.01, 2, 301)  # Unit: %,  steps:0.01 %\n",
    "b_range = np.linspace(10, 1000, 100)  # unit: mm, steps: 10 mm %, should not start from 0 to avoid division by zero\n",
    "d_range = np.linspace(10, 1000, 100)  # unit: mm, steps:10 mm %, should not start from 0 to avoid division by zero\n",
    "\n",
    "inputs = []\n",
    "output = []\n",
    "\n",
    "# Generate combinations and calculate M_u\n",
    "for rho in rho_range:\n",
    "    for b in b_range:\n",
    "        for d in d_range:\n",
    "            # Calculate A_f based on p, b, and d (Assuming a simple calculation)\n",
    "            A_f = rho * b * d / 100\n",
    "\n",
    "            # Initialize AnaFRPBending object\n",
    "            M_u_TTC = AnaFRPBending(A_f=A_f, f_cm = 50, E_f = 70000, f_fu = 900, b=b, d=d).M_u\n",
    "                      \n",
    "            # Append inputs and output to the lists\n",
    "            inputs.append([rho, b, d])\n",
    "            output.append(M_u_TTC)\n",
    "\n",
    "# Convert lists to numpy arrays\n",
    "inputs = np.array(inputs)\n",
    "output = np.array(output)\n",
    "np.save(ml_data / 'Design_space2.npy', inputs)\n",
    "np.save(ml_data / 'Mu2.npy', output)\n",
    "\n"
   ]
  }
 ],
 "metadata": {
  "kernelspec": {
   "display_name": "bmcs_env2",
   "language": "python",
   "name": "python3"
  },
  "language_info": {
   "codemirror_mode": {
    "name": "ipython",
    "version": 3
   },
   "file_extension": ".py",
   "mimetype": "text/x-python",
   "name": "python",
   "nbconvert_exporter": "python",
   "pygments_lexer": "ipython3",
   "version": "3.10.11"
  }
 },
 "nbformat": 4,
 "nbformat_minor": 2
}
