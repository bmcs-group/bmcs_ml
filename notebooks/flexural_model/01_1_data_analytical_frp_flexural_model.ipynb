{
 "cells": [
  {
   "cell_type": "markdown",
   "metadata": {},
   "source": [
    "# Data generation (Training space)  \n",
    "\n",
    "The training space, which includes the design space and given moment capacity, is established here. The design space is built upon a 3D mesh grid equally discretized across the width, height, and reinforcement ratio dimensions, with the discretization step denoted as 'n' and spanning the defined range for each component of the design space.  The resulting mesh grid forms an n*3 matrix. The moment capacity linked to each node on this mesh grid is then calculated analytically, resulting in an n*1 matrix. Both the design space (output of NN) and moment capacity (input of NN) are saved in .npy data files for further utilization."
   ]
  },
  {
   "cell_type": "code",
   "execution_count": 3,
   "metadata": {},
   "outputs": [],
   "source": [
    "from pathlib import Path\n",
    "home_dir = Path().home()\n",
    "ml_data = home_dir / 'ml_data'\n",
    "if not ml_data.exists():\n",
    "    ml_data.mkdir()"
   ]
  },
  {
   "cell_type": "code",
   "execution_count": 4,
   "metadata": {},
   "outputs": [],
   "source": [
    "import numpy as np\n",
    "from bmcs_cross_section.api import AnaFRPBending\n",
    "\n",
    "p_range = np.linspace(0.1, 2, 100)   # rainforcement ratio (Percent)\n",
    "b_range = np.linspace(50, 500, 100)  #  width (mm)\n",
    "d_range = np.linspace(50, 500, 100)  #  Depth  (mm)\n",
    "\n",
    "# p_grid, b_grid, d_grid = np.meshgrid(p_range, b_range, d_range)\n",
    "# A_f_grid = p_grid * b_grid * d_grid / 100\n",
    "# Initialize AnaFRPBending object\n",
    "# Mu = AnaFRPBending(A_f=A_f_grid, f_cm = 50, E_f = 70000, f_fu = 900, b=b_grid, d=d_grid).M_u\n"
   ]
  },
  {
   "cell_type": "code",
   "execution_count": 9,
   "metadata": {},
   "outputs": [],
   "source": [
    "\n",
    "inputs = []\n",
    "output = []\n",
    "\n",
    "# Generate combinations and calculate M_u\n",
    "for p in p_range:\n",
    "    for b in b_range:\n",
    "        for d in d_range:\n",
    "            # Calculate A_f based on p, b, and d (Assuming a simple calculation)\n",
    "            A_f = p * b * d / 100\n",
    "\n",
    "            # Initialize AnaFRPBending object\n",
    "            Mu = AnaFRPBending(A_f=A_f, f_cm = 50, E_f = 70000, f_fu = 900, b=b, d=d).M_u\n",
    "                      \n",
    "            # Append inputs and output to the lists\n",
    "            inputs.append([p, b, d])\n",
    "            output.append(Mu)\n",
    "\n",
    "# Convert lists to numpy arrays\n",
    "inputs = np.array(inputs)\n",
    "output = np.array(output)\n",
    "np.save(ml_data / 'Design_space2.npy', inputs)\n",
    "np.save(ml_data / 'Mu2.npy', output)\n"
   ]
  }
 ],
 "metadata": {
  "kernelspec": {
   "display_name": "bmcs_env2",
   "language": "python",
   "name": "python3"
  },
  "language_info": {
   "codemirror_mode": {
    "name": "ipython",
    "version": 3
   },
   "file_extension": ".py",
   "mimetype": "text/x-python",
   "name": "python",
   "nbconvert_exporter": "python",
   "pygments_lexer": "ipython3",
   "version": "3.10.11"
  }
 },
 "nbformat": 4,
 "nbformat_minor": 2
}
