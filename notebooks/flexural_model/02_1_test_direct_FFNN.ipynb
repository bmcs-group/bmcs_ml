{
 "cells": [
  {
   "cell_type": "markdown",
   "metadata": {},
   "source": [
    "# Construction of FFNN \n",
    "Here, we build a Feedforward Neural Network (FFNN) designed to predict the design space given a desired moment capacity. "
   ]
  },
  {
   "cell_type": "code",
   "execution_count": null,
   "metadata": {},
   "outputs": [],
   "source": [
    "import numpy as np\n",
    "import matplotlib.pyplot as plt\n",
    "from mpl_toolkits.mplot3d import Axes3D\n",
    "import tensorflow as tf\n",
    "from tensorflow.keras.models import Sequential\n",
    "from tensorflow.keras.layers import Dense\n",
    "from tensorflow.keras.models import save_model"
   ]
  },
  {
   "cell_type": "markdown",
   "metadata": {},
   "source": [
    "## Loading the training space and visualizing it (4D data).\n",
    "1. 3D grid with color map representing mometn capacity\n"
   ]
  },
  {
   "cell_type": "code",
   "execution_count": null,
   "metadata": {},
   "outputs": [],
   "source": [
    "\n",
    "Design_space = np.load('Design_space.npy')\n",
    "moment_capacity = np.load('Mu.npy')\n",
    "p_values = Design_space[:, 0]\n",
    "b_values = Design_space[:, 1]\n",
    "d_values = Design_space[:, 2]\n",
    "\n",
    "\n",
    "# Normalize moment capacity values to the range [0, 1]\n",
    "min_output = np.min(moment_capacity)\n",
    "max_output = np.max(moment_capacity)\n",
    "normalized_outputs = (moment_capacity - min_output) / (max_output - min_output)\n",
    "print(min_output)\n",
    "print(max_output)\n",
    "\n",
    "# Plot 4D data using color encoding\n",
    "fig = plt.figure(figsize=(12, 8))\n",
    "ax = fig.add_subplot(111, projection='3d')\n",
    "ax = Axes3D(fig) \n",
    "\n",
    "# Define color map\n",
    "cmap = plt.get_cmap('viridis')\n",
    "\n",
    "sc = ax.scatter(p_values, b_values, d_values, c=normalized_outputs, cmap=cmap, marker='o', s=1)\n",
    "cbar = plt.colorbar(sc)\n",
    "cbar.set_label('Moment Capacity * {}'.format(int(max_output)))\n",
    "\n",
    "ax.set_xlabel('Percent Reinforcement (%)')\n",
    "ax.set_ylabel('Width (mm)')\n",
    "ax.set_zlabel('Depth (mm)')\n",
    "ax.set_title('4D Plot with Color Encoding (Normalized Moment Capacity)')\n",
    "\n",
    "plt.show()\n"
   ]
  },
  {
   "cell_type": "markdown",
   "metadata": {},
   "source": [
    "Classifying reinforcement ratio with distinct colors and plotting the 3D data, aiming to discern patterns for future utilization of Physics-Informed Neural Networks (PINNs)."
   ]
  },
  {
   "cell_type": "code",
   "execution_count": null,
   "metadata": {},
   "outputs": [],
   "source": [
    "import numpy as np\n",
    "import matplotlib.pyplot as plt\n",
    "from mpl_toolkits.mplot3d import Axes3D\n",
    "\n",
    "%matplotlib widget \n",
    "\n",
    "\n",
    "# Plotting\n",
    "fig = plt.figure(figsize=(8, 6))\n",
    "ax = fig.add_subplot(111, projection='3d')\n",
    "\n",
    "\n",
    "# Loop through unique fixed values\n",
    "index = 0\n",
    "for i in np.unique(Design_space[:, 0]):\n",
    "    subset = Design_space[Design_space[:, 0] == i]\n",
    "    z_values = normalized_outputs[Design_space[:, 0] == i]\n",
    "    ax.scatter(subset[:, 1], subset[:, 2], z_values, label=f\"Set {int(i)}\")\n",
    "    index += 1\n",
    "    # if index == 10:\n",
    "    #     break\n",
    "\n",
    "ax.set_xlabel('Width (mm)')\n",
    "ax.set_ylabel('Height (mm)')\n",
    "ax.set_zlabel('Moment Capacity * {}'.format(int(max_output)))\n",
    "ax.set_title('reinforcment ratio surface')\n",
    "\n",
    "\n",
    "plt.show()\n"
   ]
  },
  {
   "cell_type": "markdown",
   "metadata": {},
   "source": [
    "## Defining the neural network model with arbitrary hyperparameters (64,32) and ReLU activation function."
   ]
  },
  {
   "cell_type": "code",
   "execution_count": null,
   "metadata": {},
   "outputs": [],
   "source": [
    "# Define the neural network model\n",
    "model = Sequential([\n",
    "    Dense(64, activation='relu', input_shape=(1,)),  # Input layer with 1 neuron\n",
    "    Dense(32, activation='relu'),  # Hidden layer with 32 neurons\n",
    "    Dense(3)  # Output layer with 3 neurons\n",
    "])\n",
    "\n",
    "# Compile the model\n",
    "model.compile(optimizer='adam', loss='mse')  # Using mean squared error loss and Adam optimizer"
   ]
  },
  {
   "cell_type": "markdown",
   "metadata": {},
   "source": [
    "## Training the FFNN, plotting Model Training Loss curve and saving Trained Model"
   ]
  },
  {
   "cell_type": "code",
   "execution_count": null,
   "metadata": {},
   "outputs": [],
   "source": [
    "# Train the model\n",
    "history = model.fit(moment_capacity, Design_space, epochs=100, batch_size=16, verbose=0)\n",
    "model.save('trained_model.h5')\n",
    "# Plot training loss\n",
    "plt.plot(history.history['loss'])\n",
    "plt.title('Model Training Loss')\n",
    "plt.xlabel('Epochs')\n",
    "plt.ylabel('Loss')\n",
    "plt.show()"
   ]
  },
  {
   "cell_type": "markdown",
   "metadata": {},
   "source": [
    "## Testing the trained FFNN on the nodes within the training space."
   ]
  },
  {
   "cell_type": "code",
   "execution_count": null,
   "metadata": {},
   "outputs": [],
   "source": [
    "from tensorflow.keras.models import load_model\n",
    "model = load_model('trained_model.h5')\n",
    "\n",
    "# picking 7 row from the data\n",
    "step_size = Design_space.shape[0]//7\n",
    "\n",
    "# selected actual design parameters associated with moment capacity .\n",
    "selected_actual_params= Design_space[::step_size]\n",
    "moment_capacity_test = moment_capacity[::step_size] # New input data for prediction\n",
    "\n",
    "# print(selected_actual_params)\n",
    "# print(moment_capacity_test)\n",
    "\n",
    "# Predict on new data\n",
    "moment_capacity_test = moment_capacity_test\n",
    "\n",
    "Designe_pred = model.predict(moment_capacity_test)\n",
    "\n",
    "# print(Designe_pred)\n",
    "\n",
    "\n"
   ]
  },
  {
   "cell_type": "markdown",
   "metadata": {},
   "source": [
    "## Visualizing the accuracy of FFNN predictions."
   ]
  },
  {
   "cell_type": "code",
   "execution_count": null,
   "metadata": {},
   "outputs": [],
   "source": [
    "\n",
    "# Calculate the absolute errors for each predicted parameter\n",
    "errors_width = 100*np.abs(selected_actual_params[:, 0] - Designe_pred[:, 0])/selected_actual_params[:, 0]\n",
    "errors_height = 100*np.abs(selected_actual_params[:, 1] - Designe_pred[:, 1])/selected_actual_params[:, 1]\n",
    "errors_reinforcement = 100*np.abs(selected_actual_params[:, 2] - Designe_pred[:, 2])/selected_actual_params[:, 2]\n",
    "\n",
    "# Plot the absolute errors for each predicted parameter\n",
    "plt.figure(figsize=(12, 6))\n",
    "\n",
    "# Width\n",
    "plt.subplot(1, 3, 1)\n",
    "plt.scatter(moment_capacity_test, errors_width, color='blue')\n",
    "plt.xlabel('Moment Capacity')\n",
    "plt.ylabel('Relative Error for Width')\n",
    "plt.title('Relative Error for Width')\n",
    "\n",
    "# Height\n",
    "plt.subplot(1, 3, 2)\n",
    "plt.scatter(moment_capacity_test, errors_height, color='red')\n",
    "plt.xlabel('Moment Capacity')\n",
    "plt.ylabel('Relative Error for Height')\n",
    "plt.title('Relative Error for Height')\n",
    "\n",
    "# Reinforcement ratio\n",
    "plt.subplot(1, 3, 3)\n",
    "plt.scatter(moment_capacity_test, errors_reinforcement, color='green')\n",
    "plt.xlabel('Moment Capacity')\n",
    "plt.ylabel('Relative Error for Reinforcement Ratio')\n",
    "plt.title('Relative Error for Reinforcement Ratio')\n",
    "\n",
    "plt.tight_layout()\n",
    "plt.show()\n"
   ]
  },
  {
   "cell_type": "code",
   "execution_count": null,
   "metadata": {},
   "outputs": [],
   "source": []
  }
 ],
 "metadata": {
  "kernelspec": {
   "display_name": "Python 3",
   "language": "python",
   "name": "python3"
  },
  "language_info": {
   "codemirror_mode": {
    "name": "ipython",
    "version": 3
   },
   "file_extension": ".py",
   "mimetype": "text/x-python",
   "name": "python",
   "nbconvert_exporter": "python",
   "pygments_lexer": "ipython3"
  }
 },
 "nbformat": 4,
 "nbformat_minor": 2
}
