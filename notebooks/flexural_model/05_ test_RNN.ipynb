{
 "cells": [
  {
   "cell_type": "code",
   "execution_count": 1,
   "metadata": {},
   "outputs": [
    {
     "name": "stdout",
     "output_type": "stream",
     "text": [
      "WARNING:tensorflow:From C:\\Users\\adelpasand\\AppData\\Local\\Packages\\PythonSoftwareFoundation.Python.3.10_qbz5n2kfra8p0\\LocalCache\\local-packages\\Python310\\site-packages\\keras\\src\\losses.py:2976: The name tf.losses.sparse_softmax_cross_entropy is deprecated. Please use tf.compat.v1.losses.sparse_softmax_cross_entropy instead.\n",
      "\n"
     ]
    }
   ],
   "source": [
    "# testing recurrent NN\n",
    "\n",
    "\n",
    "import numpy as np\n",
    "import matplotlib.pyplot as plt\n",
    "from sklearn.model_selection import train_test_split\n",
    "from tensorflow.keras.models import Sequential, load_model\n",
    "from tensorflow.keras.layers import LSTM, Dense\n",
    "from tensorflow.keras.optimizers import Adam\n"
   ]
  },
  {
   "cell_type": "code",
   "execution_count": 3,
   "metadata": {},
   "outputs": [
    {
     "name": "stdout",
     "output_type": "stream",
     "text": [
      "Design_space shape: (125000, 3)\n",
      "moment_capacity shape: (125000,)\n"
     ]
    }
   ],
   "source": [
    "\n",
    "# Load data\n",
    "Design_space = np.load('Design_space.npy')\n",
    "moment_capacity = np.load('Mu.npy')\n",
    "\n",
    "# Check shapes\n",
    "print(\"Design_space shape:\", Design_space.shape)\n",
    "print(\"moment_capacity shape:\", moment_capacity.shape)\n",
    "\n",
    "# Reshape moment_capacity if necessary\n",
    "if len(moment_capacity.shape) == 1:  # Assuming moment_capacity is 1D\n",
    "    moment_capacity = moment_capacity.reshape(-1, 1)  # Reshape to a 2D array with one column\n"
   ]
  },
  {
   "cell_type": "code",
   "execution_count": 4,
   "metadata": {},
   "outputs": [
    {
     "name": "stdout",
     "output_type": "stream",
     "text": [
      "WARNING:tensorflow:From C:\\Users\\adelpasand\\AppData\\Local\\Packages\\PythonSoftwareFoundation.Python.3.10_qbz5n2kfra8p0\\LocalCache\\local-packages\\Python310\\site-packages\\keras\\src\\layers\\rnn\\lstm.py:148: The name tf.executing_eagerly_outside_functions is deprecated. Please use tf.compat.v1.executing_eagerly_outside_functions instead.\n",
      "\n",
      "Epoch 1/50\n",
      "WARNING:tensorflow:From C:\\Users\\adelpasand\\AppData\\Local\\Packages\\PythonSoftwareFoundation.Python.3.10_qbz5n2kfra8p0\\LocalCache\\local-packages\\Python310\\site-packages\\keras\\src\\utils\\tf_utils.py:492: The name tf.ragged.RaggedTensorValue is deprecated. Please use tf.compat.v1.ragged.RaggedTensorValue instead.\n",
      "\n",
      "6250/6250 [==============================] - 12s 2ms/step - loss: 9405.6611 - val_loss: 7321.1021\n",
      "Epoch 2/50\n",
      "6250/6250 [==============================] - 11s 2ms/step - loss: 6974.1108 - val_loss: 6981.4644\n",
      "Epoch 3/50\n",
      "6250/6250 [==============================] - 11s 2ms/step - loss: 6943.5938 - val_loss: 7028.3770\n",
      "Epoch 4/50\n",
      "6250/6250 [==============================] - 11s 2ms/step - loss: 6939.5122 - val_loss: 6939.7637\n",
      "Epoch 5/50\n",
      "6250/6250 [==============================] - 10s 2ms/step - loss: 6940.6382 - val_loss: 7249.0361\n",
      "Epoch 6/50\n",
      "6250/6250 [==============================] - 10s 2ms/step - loss: 6937.4741 - val_loss: 6949.8193\n",
      "Epoch 7/50\n",
      "6250/6250 [==============================] - 11s 2ms/step - loss: 6932.1445 - val_loss: 6931.9409\n",
      "Epoch 8/50\n",
      "6250/6250 [==============================] - 11s 2ms/step - loss: 6933.3384 - val_loss: 6933.0107\n",
      "Epoch 9/50\n",
      "6250/6250 [==============================] - 11s 2ms/step - loss: 6934.0117 - val_loss: 6928.7451\n",
      "Epoch 10/50\n",
      "6250/6250 [==============================] - 10s 2ms/step - loss: 6930.4473 - val_loss: 6938.6743\n",
      "Epoch 11/50\n",
      "6250/6250 [==============================] - 10s 2ms/step - loss: 6934.1860 - val_loss: 6943.9102\n",
      "Epoch 12/50\n",
      "6250/6250 [==============================] - 10s 2ms/step - loss: 6928.1299 - val_loss: 6946.9941\n",
      "Epoch 13/50\n",
      "6250/6250 [==============================] - 10s 2ms/step - loss: 6926.9800 - val_loss: 7038.0122\n",
      "Epoch 14/50\n",
      "6250/6250 [==============================] - 10s 2ms/step - loss: 6925.4312 - val_loss: 6976.4009\n",
      "Epoch 15/50\n",
      "6250/6250 [==============================] - 11s 2ms/step - loss: 6924.7534 - val_loss: 6973.6392\n",
      "Epoch 16/50\n",
      "6250/6250 [==============================] - 11s 2ms/step - loss: 6923.0527 - val_loss: 7020.7207\n",
      "Epoch 17/50\n",
      "6250/6250 [==============================] - 11s 2ms/step - loss: 6918.0439 - val_loss: 6964.9858\n",
      "Epoch 18/50\n",
      "6250/6250 [==============================] - 11s 2ms/step - loss: 6922.2671 - val_loss: 6964.8452\n",
      "Epoch 19/50\n",
      "6250/6250 [==============================] - 10s 2ms/step - loss: 6921.4424 - val_loss: 6924.3262\n",
      "Epoch 20/50\n",
      "6250/6250 [==============================] - 10s 2ms/step - loss: 6918.2500 - val_loss: 6947.5688\n",
      "Epoch 21/50\n",
      "6250/6250 [==============================] - 11s 2ms/step - loss: 6914.0186 - val_loss: 6941.5854\n",
      "Epoch 22/50\n",
      "6250/6250 [==============================] - 11s 2ms/step - loss: 6913.8882 - val_loss: 6936.2314\n",
      "Epoch 23/50\n",
      "6250/6250 [==============================] - 11s 2ms/step - loss: 6914.4819 - val_loss: 6979.3843\n",
      "Epoch 24/50\n",
      "6250/6250 [==============================] - 10s 2ms/step - loss: 6909.9443 - val_loss: 6970.5732\n",
      "Epoch 25/50\n",
      "6250/6250 [==============================] - 10s 2ms/step - loss: 6909.6606 - val_loss: 6944.4414\n",
      "Epoch 26/50\n",
      "6250/6250 [==============================] - 11s 2ms/step - loss: 6908.5752 - val_loss: 7054.1787\n",
      "Epoch 27/50\n",
      "6250/6250 [==============================] - 11s 2ms/step - loss: 6912.9087 - val_loss: 6933.8223\n",
      "Epoch 28/50\n",
      "6250/6250 [==============================] - 11s 2ms/step - loss: 6905.5234 - val_loss: 6952.1152\n",
      "Epoch 29/50\n",
      "6250/6250 [==============================] - 11s 2ms/step - loss: 6908.0654 - val_loss: 6951.2642\n",
      "Epoch 30/50\n",
      "6250/6250 [==============================] - 11s 2ms/step - loss: 6901.2139 - val_loss: 6920.8774\n",
      "Epoch 31/50\n",
      "6250/6250 [==============================] - 11s 2ms/step - loss: 6895.7378 - val_loss: 6928.0083\n",
      "Epoch 32/50\n",
      "6250/6250 [==============================] - 11s 2ms/step - loss: 6896.8276 - val_loss: 6932.9800\n",
      "Epoch 33/50\n",
      "6250/6250 [==============================] - 11s 2ms/step - loss: 6895.7886 - val_loss: 6971.8760\n",
      "Epoch 34/50\n",
      "6250/6250 [==============================] - 11s 2ms/step - loss: 6894.9717 - val_loss: 6918.9907\n",
      "Epoch 35/50\n",
      "6250/6250 [==============================] - 11s 2ms/step - loss: 6896.2964 - val_loss: 6928.5601\n",
      "Epoch 36/50\n",
      "6250/6250 [==============================] - 11s 2ms/step - loss: 6889.0127 - val_loss: 6947.3433\n",
      "Epoch 37/50\n",
      "6250/6250 [==============================] - 11s 2ms/step - loss: 6890.1333 - val_loss: 6931.6318\n",
      "Epoch 38/50\n",
      "6250/6250 [==============================] - 12s 2ms/step - loss: 6889.2021 - val_loss: 6999.4336\n",
      "Epoch 39/50\n",
      "6250/6250 [==============================] - 12s 2ms/step - loss: 6885.5859 - val_loss: 6936.1113\n",
      "Epoch 40/50\n",
      "6250/6250 [==============================] - 11s 2ms/step - loss: 6885.7832 - val_loss: 6915.4336\n",
      "Epoch 41/50\n",
      "6250/6250 [==============================] - 11s 2ms/step - loss: 6882.1421 - val_loss: 6931.0400\n",
      "Epoch 42/50\n",
      "6250/6250 [==============================] - 12s 2ms/step - loss: 6881.5186 - val_loss: 7018.8994\n",
      "Epoch 43/50\n",
      "6250/6250 [==============================] - 12s 2ms/step - loss: 6881.4741 - val_loss: 6934.4453\n",
      "Epoch 44/50\n",
      "6250/6250 [==============================] - 11s 2ms/step - loss: 6877.8242 - val_loss: 7002.8447\n",
      "Epoch 45/50\n",
      "6250/6250 [==============================] - 11s 2ms/step - loss: 6878.7554 - val_loss: 6919.4990\n",
      "Epoch 46/50\n",
      "6250/6250 [==============================] - 13s 2ms/step - loss: 6879.4746 - val_loss: 6940.1089\n",
      "Epoch 47/50\n",
      "6250/6250 [==============================] - 12s 2ms/step - loss: 6877.4707 - val_loss: 6951.7749\n",
      "Epoch 48/50\n",
      "6250/6250 [==============================] - 11s 2ms/step - loss: 6877.4209 - val_loss: 6925.7783\n",
      "Epoch 49/50\n",
      "6250/6250 [==============================] - 11s 2ms/step - loss: 6876.9316 - val_loss: 6926.0396\n",
      "Epoch 50/50\n",
      "6250/6250 [==============================] - 13s 2ms/step - loss: 6878.6289 - val_loss: 6937.6650\n"
     ]
    },
    {
     "data": {
      "image/png": "[encoded data removed]",
      "text/plain": [
       "<Figure size 432x288 with 1 Axes>"
      ]
     },
     "metadata": {
      "needs_background": "light"
     },
     "output_type": "display_data"
    },
    {
     "name": "stdout",
     "output_type": "stream",
     "text": [
      "Model saved as 'rnn_model.h5'\n"
     ]
    },
    {
     "name": "stderr",
     "output_type": "stream",
     "text": [
      "C:\\Users\\adelpasand\\AppData\\Local\\Packages\\PythonSoftwareFoundation.Python.3.10_qbz5n2kfra8p0\\LocalCache\\local-packages\\Python310\\site-packages\\keras\\src\\engine\\training.py:3103: UserWarning: You are saving your model as an HDF5 file via `model.save()`. This file format is considered legacy. We recommend using instead the native Keras format, e.g. `model.save('my_model.keras')`.\n",
      "  saving_api.save_model(\n"
     ]
    }
   ],
   "source": [
    "\n",
    "# Split the data into training and validation sets\n",
    "X_train, X_val, y_train, y_val = train_test_split(moment_capacity, Design_space, test_size=0.2, random_state=42)\n",
    "\n",
    "# Reshape input data for LSTM\n",
    "X_train = X_train.reshape(X_train.shape[0], 1, X_train.shape[1])  # Reshape to (batch_size, timesteps, input_dim)\n",
    "X_val = X_val.reshape(X_val.shape[0], 1, X_val.shape[1])  # Reshape to (batch_size, timesteps, input_dim)\n",
    "\n",
    "# Define input and output dimensions\n",
    "input_dim = X_train.shape[2]\n",
    "output_dim = Design_space.shape[1]\n",
    "\n",
    "# Define the LSTM model\n",
    "model = Sequential([\n",
    "    LSTM(64, input_shape=(1, input_dim), activation='relu'),  # LSTM layer with 64 units\n",
    "    Dense(output_dim)  # Output layer\n",
    "])\n",
    "\n",
    "# Compile the model\n",
    "optimizer = Adam(learning_rate=0.001)\n",
    "model.compile(optimizer=optimizer, loss='mse')  # Using mean squared error loss\n",
    "\n",
    "# Train the model\n",
    "history = model.fit(X_train, y_train, validation_data=(X_val, y_val), epochs=50, batch_size=16, verbose=1)\n",
    "\n",
    "# Save the trained model\n",
    "model.save('rnn_model.h5')\n",
    "print(\"Model saved as 'rnn_model.h5'\")\n",
    "\n",
    "\n",
    "\n"
   ]
  },
  {
   "cell_type": "code",
   "execution_count": 5,
   "metadata": {},
   "outputs": [
    {
     "data": {
      "image/png": "[encoded data removed]",
      "text/plain": [
       "<Figure size 432x288 with 1 Axes>"
      ]
     },
     "metadata": {
      "needs_background": "light"
     },
     "output_type": "display_data"
    }
   ],
   "source": [
    "# Plot training and validation loss\n",
    "plt.plot(history.history['loss'], label='Training Loss')\n",
    "plt.plot(history.history['val_loss'], label='Validation Loss')\n",
    "plt.title('Model Training and Validation Loss')\n",
    "plt.xlabel('Epochs')\n",
    "plt.ylabel('Loss')\n",
    "plt.legend()\n",
    "plt.show()"
   ]
  },
  {
   "cell_type": "code",
   "execution_count": null,
   "metadata": {},
   "outputs": [],
   "source": []
  }
 ],
 "metadata": {
  "kernelspec": {
   "display_name": "Python 3",
   "language": "python",
   "name": "python3"
  },
  "language_info": {
   "codemirror_mode": {
    "name": "ipython",
    "version": 3
   },
   "file_extension": ".py",
   "mimetype": "text/x-python",
   "name": "python",
   "nbconvert_exporter": "python",
   "pygments_lexer": "ipython3",
   "version": "3.10.11"
  }
 },
 "nbformat": 4,
 "nbformat_minor": 2
}
