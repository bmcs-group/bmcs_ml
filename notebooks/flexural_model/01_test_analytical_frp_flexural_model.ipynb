{
 "cells": [
  {
   "cell_type": "code",
   "execution_count": 1,
   "metadata": {},
   "outputs": [],
   "source": [
    "from bmcs_cross_section.api import AnaFRPBending"
   ]
  },
  {
   "cell_type": "code",
   "execution_count": 2,
   "metadata": {},
   "outputs": [],
   "source": [
    "p=\n",
    "b=\n",
    "d=\n",
    "\n",
    "AnaFRPBending(A_f, f_cm = 50, E_f = 70000, f_fu = 900, b, d).M_u\n",
    "\n",
    "afrp = AnaFRPBending()"
   ]
  },
  {
   "cell_type": "code",
   "execution_count": 3,
   "metadata": {},
   "outputs": [
    {
     "data": {
      "text/plain": [
       "97.65046060445205"
      ]
     },
     "execution_count": 3,
     "metadata": {},
     "output_type": "execute_result"
    }
   ],
   "source": [
    "afrp.M_u"
   ]
  },
  {
   "cell_type": "code",
   "execution_count": 8,
   "metadata": {},
   "outputs": [
    {
     "name": "stdout",
     "output_type": "stream",
     "text": [
      "0.5\n",
      "100.0\n",
      "100.0\n",
      "0.5\n",
      "100.0\n",
      "250.0\n",
      "0.5\n",
      "100.0\n",
      "400.0\n",
      "0.5\n",
      "250.0\n",
      "100.0\n",
      "0.5\n",
      "250.0\n",
      "250.0\n",
      "0.5\n",
      "250.0\n",
      "400.0\n",
      "0.5\n",
      "400.0\n",
      "100.0\n",
      "0.5\n",
      "400.0\n",
      "250.0\n",
      "0.5\n",
      "400.0\n",
      "400.0\n",
      "3.25\n",
      "100.0\n",
      "100.0\n",
      "3.25\n",
      "100.0\n",
      "250.0\n",
      "3.25\n",
      "100.0\n",
      "400.0\n",
      "3.25\n",
      "250.0\n",
      "100.0\n",
      "3.25\n",
      "250.0\n",
      "250.0\n",
      "3.25\n",
      "250.0\n",
      "400.0\n",
      "3.25\n",
      "400.0\n",
      "100.0\n",
      "3.25\n",
      "400.0\n",
      "250.0\n",
      "3.25\n",
      "400.0\n",
      "400.0\n",
      "6.0\n",
      "100.0\n",
      "100.0\n",
      "6.0\n",
      "100.0\n",
      "250.0\n",
      "6.0\n",
      "100.0\n",
      "400.0\n",
      "6.0\n",
      "250.0\n",
      "100.0\n",
      "6.0\n",
      "250.0\n",
      "250.0\n",
      "6.0\n",
      "250.0\n",
      "400.0\n",
      "6.0\n",
      "400.0\n",
      "100.0\n",
      "6.0\n",
      "400.0\n",
      "250.0\n",
      "6.0\n",
      "400.0\n",
      "400.0\n",
      "Inputs (p, b, d):\n",
      "[[  0.5 100.  100. ]\n",
      " [  0.5 100.  250. ]\n",
      " [  0.5 100.  400. ]\n",
      " [  0.5 250.  100. ]\n",
      " [  0.5 250.  250. ]]\n",
      "\n",
      "Outputs (M_u):\n",
      "[ 4.27930455 26.74565344 68.46887282 10.69826138 66.86413361]\n"
     ]
    }
   ],
   "source": [
    "import numpy as np\n",
    "\n",
    "p_range = np.linspace(0.5, 6, 3)  # Percent\n",
    "b_range = np.linspace(100, 400, 3)  # mm\n",
    "d_range = np.linspace(100, 400, 3)  # mm\n",
    "inputs = []\n",
    "outputs = []\n",
    "\n",
    "# Generate combinations and calculate M_u\n",
    "for p in p_range:\n",
    "    for b in b_range:\n",
    "        for d in d_range:\n",
    "            # Calculate A_f based on p, b, and d (Assuming a simple calculation)\n",
    "            A_f = p * b * d / 100\n",
    "            print(p)\n",
    "            print(b)\n",
    "            print(d)\n",
    "\n",
    "            # Initialize AnaFRPBending object\n",
    "            Mu = AnaFRPBending(A_f=A_f, f_cm = 50, E_f = 70000, f_fu = 900, b=b, d=d).M_u\n",
    "                      \n",
    "            # Append inputs and outputs to the lists\n",
    "            inputs.append([p, b, d])\n",
    "            outputs.append(Mu)\n",
    "\n",
    "# Convert lists to numpy arrays\n",
    "inputs = np.array(inputs)\n",
    "outputs = np.array(outputs)\n",
    "\n",
    "print(\"Inputs (p, b, d):\")\n",
    "print(inputs[:5])\n",
    "print(\"\\nOutputs (M_u):\")\n",
    "print(outputs[:5])"
   ]
  },
  {
   "cell_type": "code",
   "execution_count": null,
   "metadata": {},
   "outputs": [],
   "source": []
  }
 ],
 "metadata": {
  "kernelspec": {
   "display_name": "bmcs_env2",
   "language": "python",
   "name": "python3"
  },
  "language_info": {
   "codemirror_mode": {
    "name": "ipython",
    "version": 3
   },
   "file_extension": ".py",
   "mimetype": "text/x-python",
   "name": "python",
   "nbconvert_exporter": "python",
   "pygments_lexer": "ipython3",
   "version": "3.10.11"
  }
 },
 "nbformat": 4,
 "nbformat_minor": 2
}
