{
 "cells": [
  {
   "cell_type": "code",
   "execution_count": 23,
   "metadata": {},
   "outputs": [],
   "source": [
    "import numpy as np\n",
    "from bmcs_cross_section.api import AnaFRPBending\n",
    "\n",
    "p_range = np.linspace(0.1, 2, 50)  # Percent\n",
    "b_range = np.linspace(50, 500, 50)  # mm\n",
    "d_range = np.linspace(50, 500, 50)  # mm\n",
    "inputs = []\n",
    "output = []\n",
    "\n",
    "# Generate combinations and calculate M_u\n",
    "for p in p_range:\n",
    "    for b in b_range:\n",
    "        for d in d_range:\n",
    "            # Calculate A_f based on p, b, and d (Assuming a simple calculation)\n",
    "            A_f = p * b * d / 100\n",
    "\n",
    "            # Initialize AnaFRPBending object\n",
    "            Mu = AnaFRPBending(A_f=A_f, f_cm = 50, E_f = 70000, f_fu = 900, b=b, d=d).M_u\n",
    "                      \n",
    "            # Append inputs and output to the lists\n",
    "            inputs.append([p, b, d])\n",
    "            output.append(Mu)\n",
    "\n",
    "# Convert lists to numpy arrays\n",
    "inputs = np.array(inputs)\n",
    "output = np.array(output)\n",
    "np.save('Design_space.npy', inputs)\n",
    "np.save('Mu.npy', output)\n"
   ]
  },
  {
   "cell_type": "code",
   "execution_count": null,
   "metadata": {},
   "outputs": [],
   "source": []
  }
 ],
 "metadata": {
  "kernelspec": {
   "display_name": "bmcs_env2",
   "language": "python",
   "name": "python3"
  },
  "language_info": {
   "codemirror_mode": {
    "name": "ipython",
    "version": 3
   },
   "file_extension": ".py",
   "mimetype": "text/x-python",
   "name": "python",
   "nbconvert_exporter": "python",
   "pygments_lexer": "ipython3",
   "version": "3.10.11"
  }
 },
 "nbformat": 4,
 "nbformat_minor": 2
}
