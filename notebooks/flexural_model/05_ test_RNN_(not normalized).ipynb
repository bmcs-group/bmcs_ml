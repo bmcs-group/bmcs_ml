{
 "cells": [
  {
   "cell_type": "code",
   "execution_count": null,
   "metadata": {},
   "outputs": [],
   "source": [
    "# testing recurrent NN\n",
    "\n",
    "\n",
    "import numpy as np\n",
    "import matplotlib.pyplot as plt\n",
    "from sklearn.model_selection import train_test_split\n",
    "from tensorflow.keras.models import Sequential, load_model\n",
    "from tensorflow.keras.layers import LSTM, Dense\n",
    "from tensorflow.keras.optimizers import Adam\n"
   ]
  },
  {
   "cell_type": "code",
   "execution_count": null,
   "metadata": {},
   "outputs": [],
   "source": [
    "\n",
    "# Load data\n",
    "Design_space = np.load('Design_space.npy')\n",
    "moment_capacity = np.load('Mu.npy')\n",
    "\n",
    "# Check shapes\n",
    "print(\"Design_space shape:\", Design_space.shape)\n",
    "print(\"moment_capacity shape:\", moment_capacity.shape)\n",
    "\n",
    "# Reshape moment_capacity if necessary\n",
    "if len(moment_capacity.shape) == 1:  # Assuming moment_capacity is 1D\n",
    "    moment_capacity = moment_capacity.reshape(-1, 1)  # Reshape to a 2D array with one column\n"
   ]
  },
  {
   "cell_type": "code",
   "execution_count": null,
   "metadata": {},
   "outputs": [],
   "source": [
    "\n",
    "# Split the data into training and validation sets\n",
    "X_train, X_val, y_train, y_val = train_test_split(moment_capacity, Design_space, test_size=0.2, random_state=42)\n",
    "\n",
    "# Reshape input data for LSTM\n",
    "X_train = X_train.reshape(X_train.shape[0], 1, X_train.shape[1])  # Reshape to (batch_size, timesteps, input_dim)\n",
    "X_val = X_val.reshape(X_val.shape[0], 1, X_val.shape[1])  # Reshape to (batch_size, timesteps, input_dim)\n",
    "\n",
    "# Define input and output dimensions\n",
    "input_dim = X_train.shape[2]\n",
    "output_dim = Design_space.shape[1]\n",
    "\n",
    "# Define the LSTM model\n",
    "model = Sequential([\n",
    "    LSTM(64, input_shape=(1, input_dim), activation='relu'),  # LSTM layer with 64 units\n",
    "    Dense(output_dim)  # Output layer\n",
    "])\n",
    "\n",
    "# Compile the model\n",
    "optimizer = Adam(learning_rate=0.001)\n",
    "model.compile(optimizer=optimizer, loss='mse')  # Using mean squared error loss\n",
    "\n",
    "# Train the model\n",
    "history = model.fit(X_train, y_train, validation_data=(X_val, y_val), epochs=50, batch_size=16, verbose=1)\n",
    "\n",
    "# Save the trained model\n",
    "model.save('rnn_model.h5')\n",
    "print(\"Model saved as 'rnn_model.h5'\")\n",
    "\n",
    "\n",
    "\n"
   ]
  },
  {
   "cell_type": "code",
   "execution_count": null,
   "metadata": {},
   "outputs": [],
   "source": [
    "# Plot training and validation loss\n",
    "plt.plot(history.history['loss'], label='Training Loss')\n",
    "plt.plot(history.history['val_loss'], label='Validation Loss')\n",
    "plt.title('Model Training and Validation Loss')\n",
    "plt.xlabel('Epochs')\n",
    "plt.ylabel('Loss')\n",
    "plt.legend()\n",
    "plt.show()"
   ]
  },
  {
   "cell_type": "code",
   "execution_count": null,
   "metadata": {},
   "outputs": [],
   "source": []
  }
 ],
 "metadata": {
  "kernelspec": {
   "display_name": "Python 3",
   "language": "python",
   "name": "python3"
  },
  "language_info": {
   "codemirror_mode": {
    "name": "ipython",
    "version": 3
   },
   "file_extension": ".py",
   "mimetype": "text/x-python",
   "name": "python",
   "nbconvert_exporter": "python",
   "pygments_lexer": "ipython3"
  }
 },
 "nbformat": 4,
 "nbformat_minor": 2
}
