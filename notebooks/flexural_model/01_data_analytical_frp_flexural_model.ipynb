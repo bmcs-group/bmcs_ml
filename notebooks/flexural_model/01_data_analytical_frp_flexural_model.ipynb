{
 "cells": [
  {
   "cell_type": "markdown",
   "metadata": {},
   "source": [
    "# Data generation (Training space)  \n",
    "\n",
    "The training space, which includes the design space and given moment capacity, is established here. The design space is built upon a 3D mesh grid equally discretized across the width, height, and reinforcement ratio dimensions, with the discretization step denoted as 'n' and spanning the defined range for each component of the design space.  The resulting mesh grid forms an n*3 matrix. The moment capacity linked to each node on this mesh grid is then calculated analytically, resulting in an n*1 matrix. Both the design space (output of NN) and moment capacity (input of NN) are saved in .npy data files for further utilization."
   ]
  },
  {
   "cell_type": "code",
   "execution_count": null,
   "metadata": {},
   "outputs": [],
   "source": [
    "import numpy as np\n",
    "from bmcs_cross_section.api import AnaFRPBending\n",
    "\n",
    "p_range = np.linspace(0.1, 2, 50)   # rainforcement ratio (Percent)\n",
    "b_range = np.linspace(50, 500, 50)  #  width (mm)\n",
    "d_range = np.linspace(50, 500, 50)  #  Depth  (mm)\n",
    "inputs = []\n",
    "output = []\n",
    "\n",
    "# Generate combinations and calculate M_u\n",
    "for p in p_range:\n",
    "    for b in b_range:\n",
    "        for d in d_range:\n",
    "            # Calculate A_f based on p, b, and d (Assuming a simple calculation)\n",
    "            A_f = p * b * d / 100\n",
    "\n",
    "            # Initialize AnaFRPBending object\n",
    "            Mu = AnaFRPBending(A_f=A_f, f_cm = 50, E_f = 70000, f_fu = 900, b=b, d=d).M_u\n",
    "                      \n",
    "            # Append inputs and output to the lists\n",
    "            inputs.append([p, b, d])\n",
    "            output.append(Mu)\n",
    "\n",
    "# Convert lists to numpy arrays\n",
    "inputs = np.array(inputs)\n",
    "output = np.array(output)\n",
    "np.save('Design_space.npy', inputs)\n",
    "np.save('Mu.npy', output)\n"
   ]
  }
 ],
 "metadata": {
  "kernelspec": {
   "display_name": "bmcs_env2",
   "language": "python",
   "name": "python3"
  },
  "language_info": {
   "codemirror_mode": {
    "name": "ipython",
    "version": 3
   },
   "file_extension": ".py",
   "mimetype": "text/x-python",
   "name": "python",
   "nbconvert_exporter": "python",
   "pygments_lexer": "ipython3"
  }
 },
 "nbformat": 4,
 "nbformat_minor": 2
}
