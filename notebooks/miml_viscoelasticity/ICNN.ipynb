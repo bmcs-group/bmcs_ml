{
 "cells": [
  {
   "cell_type": "code",
   "execution_count": null,
   "metadata": {},
   "outputs": [],
   "source": [
    "import pickle\n",
    "import numpy as np\n",
    "from matplotlib import pyplot as plt\n",
    "from ICNNP import ICNN"
   ]
  },
  {
   "cell_type": "code",
   "execution_count": null,
   "metadata": {},
   "outputs": [],
   "source": [
    "\n",
    "def function(x):\n",
    "    return np.abs(x) + np.sin(x)\n",
    "\n",
    "x = np.linspace(-10, 10, 100)\n",
    "\n",
    "number_of_epochs = 2500\n",
    "lr = 0.01\n",
    "\n",
    "icnn_1 = ICNN((1, 100, 50, 50, 1), activation_function=\"softplus_squared\")\n",
    "icnn_2 = ICNN((1, 100, 50, 50, 1), activation_function=\"elu\")\n",
    "\n",
    "icnn_1.convex_training(x, function(x), learning_rate=lr, epochs=number_of_epochs, epsilon=30, do_convex_training=True)\n",
    "icnn_2.convex_training(x, function(x), learning_rate=lr, epochs=number_of_epochs, epsilon=30, do_convex_training=True)\n",
    "\n",
    "# # Plot ICNN model\n",
    "\n",
    "plt.plot(x, function(x), label=f'Data', linewidth=3, alpha=0.25, color='blue')\n",
    "plt.plot(x, icnn_1(x), '--', color='black', label='ICNN_1', linewidth=1.5)\n",
    "plt.plot(x, icnn_2(x), '--', color='red',label='ICNN_2', linewidth=1.5)\n",
    "plt.xlabel('x', fontsize=14)\n",
    "plt.legend(fontsize=14)\n",
    "plt.tight_layout()\n",
    "plt.grid()\n",
    "plt.show()"
   ]
  },
  {
   "cell_type": "code",
   "execution_count": null,
   "metadata": {},
   "outputs": [],
   "source": []
  }
 ],
 "metadata": {
  "kernelspec": {
   "display_name": "Python 3",
   "language": "python",
   "name": "python3"
  },
  "language_info": {
   "codemirror_mode": {
    "name": "ipython",
    "version": 3
   },
   "file_extension": ".py",
   "mimetype": "text/x-python",
   "name": "python",
   "nbconvert_exporter": "python",
   "pygments_lexer": "ipython3"
  }
 },
 "nbformat": 4,
 "nbformat_minor": 2
}
