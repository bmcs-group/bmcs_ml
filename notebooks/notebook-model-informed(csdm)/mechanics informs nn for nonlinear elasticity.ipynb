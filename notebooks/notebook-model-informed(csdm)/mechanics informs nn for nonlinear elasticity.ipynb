{
 "cells": [
  {
   "cell_type": "code",
   "execution_count": null,
   "metadata": {},
   "outputs": [],
   "source": [
    "import numpy as np\n",
    "import matplotlib.pyplot as plt\n",
    "import torch\n",
    "import torch.nn as nn\n",
    "import torch.optim as optim\n",
    "from sklearn.preprocessing import PolynomialFeatures\n"
   ]
  },
  {
   "cell_type": "code",
   "execution_count": null,
   "metadata": {},
   "outputs": [],
   "source": [
    "import numpy as np\n",
    "import matplotlib.pyplot as plt\n",
    "\n",
    "# Define the constants for the nonlinear model with three terms\n",
    "E_nonlinear = 200  # Elastic modulus (MPa)\n",
    "C1_nonlinear = 500  # Second-order nonlinear term (MPa)\n",
    "C2_nonlinear = 200  # Third-order nonlinear term (MPa)\n",
    "\n",
    "# Define the strain range for the elastic material\n",
    "strain_values = np.linspace(0, 0.2, 100)  # Strain from 0 to 0.2\n",
    "\n",
    "# Define the extended nonlinear stress-strain relationship with three terms\n",
    "def stress_nonlinear(strain):\n",
    "    return E_nonlinear * strain + C1_nonlinear * strain**2 + C2_nonlinear * strain**3\n",
    "\n",
    "# Define the linear elastic stress-strain relationship\n",
    "def stress_linear(strain):\n",
    "    return E_nonlinear * strain  # Using the same elastic modulus for comparison\n",
    "\n",
    "# Generate stress data for both models\n",
    "stress_data_nonlinear = stress_nonlinear(strain_values)\n",
    "stress_data_linear = stress_linear(strain_values)\n",
    "\n",
    "# Plotting both the nonlinear (3 terms) and linear elastic stress-strain curves\n",
    "plt.figure(figsize=(8, 6))\n",
    "plt.plot(strain_values, stress_data_nonlinear, label='Nonlinear Elasticity (3 Terms)', linewidth=2, color='teal')\n",
    "plt.plot(strain_values, stress_data_linear, label='Linear Elasticity', linestyle='--', linewidth=2, color='orange')\n",
    "plt.xlabel('Strain')\n",
    "plt.ylabel('Stress (MPa)')\n",
    "plt.title('Comparison: Nonlinear vs. Linear Elasticity')\n",
    "plt.legend()\n",
    "plt.grid(True)\n",
    "plt.show()\n"
   ]
  },
  {
   "cell_type": "code",
   "execution_count": null,
   "metadata": {},
   "outputs": [],
   "source": []
  },
  {
   "cell_type": "code",
   "execution_count": null,
   "metadata": {},
   "outputs": [],
   "source": [
    "import pickle\n",
    "import numpy as np\n",
    "from matplotlib import pyplot as plt\n",
    "from ICNN import ICNN"
   ]
  },
  {
   "cell_type": "code",
   "execution_count": null,
   "metadata": {},
   "outputs": [],
   "source": [
    "\n",
    "number_of_epochs = 5000\n",
    "lr = 0.01\n",
    "\n",
    "icnn = ICNN([1, 64, 64, 64,64, 1], activation_function=\"elu\")\n",
    "nn = ICNN([1, 64, 64, 64,64, 1], activation_function=\"elu\")\n",
    "\n",
    "icnn.convex_training(strain_values, stress_data_nonlinear, learning_rate=lr, epochs=number_of_epochs, epsilon=30, do_convex_training=True)\n",
    "nn.convex_training(strain_values, stress_data_nonlinear, learning_rate=lr, epochs=number_of_epochs, epsilon=30, do_convex_training=False)\n",
    "\n",
    "# # Plot ICNN model\n",
    "\n",
    "plt.plot(strain_values, stress_data_nonlinear, label=f'Data', linewidth=3, alpha=0.25, color='blue')\n",
    "plt.plot(strain_values, nn(strain_values), '--', color='black', label='NN', linewidth=1.5)\n",
    "plt.plot(strain_values, icnn(strain_values), '--', color='red',label='ICNN', linewidth=1.5)\n",
    "plt.xlabel('strain_values', fontsize=14)\n",
    "plt.legend(fontsize=14)\n",
    "plt.tight_layout()\n",
    "plt.grid()\n",
    "plt.show()"
   ]
  },
  {
   "cell_type": "code",
   "execution_count": null,
   "metadata": {},
   "outputs": [],
   "source": []
  }
 ],
 "metadata": {
  "kernelspec": {
   "display_name": "Python 3",
   "language": "python",
   "name": "python3"
  },
  "language_info": {
   "codemirror_mode": {
    "name": "ipython",
    "version": 3
   },
   "file_extension": ".py",
   "mimetype": "text/x-python",
   "name": "python",
   "nbconvert_exporter": "python",
   "pygments_lexer": "ipython3"
  }
 },
 "nbformat": 4,
 "nbformat_minor": 2
}
