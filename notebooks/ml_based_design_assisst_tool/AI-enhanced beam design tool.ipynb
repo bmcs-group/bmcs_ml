{
 "cells": [
  {
   "cell_type": "markdown",
   "metadata": {},
   "source": [
    "# AI-enhanced Beam Design Assisst Tool "
   ]
  },
  {
   "cell_type": "markdown",
   "metadata": {},
   "source": [
    "## General concept:"
   ]
  },
  {
   "cell_type": "markdown",
   "metadata": {},
   "source": [
    "This study endeavors to harness the potential of artificial intelligence (AI) in tackling challenges encountered in the design process of carbon reinforced concrete beams. The aim is to confront the intricacies inherent in design issues characterized by a multitude of parameters and requirements. It recognizes that artificial neural networks (ANNs) hold the capacity to uncover patterns within vast structural design datasets, establishing connections between input variables and output parameters essential for engineering objectives.\n",
    "In conventional design frameworks, validating limit states and functional requirements relies on completing the entire design process. As a result, the sequential inversion of design expectations is of paramount significance.  While forward design is feasible using conventional approaches, performing backward design where some input parameters and selected target outputs are pre-assigned poses challenges, as all outputs can only be calculated through forward design. Challenges arise from intricacies inherent to recalculating and adjusting parameters\n",
    "during retroactive application of constraints. This step requires multiple adjustments of input parameters and recalculations of the outputs, adding a layer of difficulty to the process."
   ]
  },
  {
   "cell_type": "markdown",
   "metadata": {},
   "source": [
    "## Problem definition:"
   ]
  },
  {
   "cell_type": "markdown",
   "metadata": {},
   "source": [
    "Phase 1: Initially, we frame the challenge as the design of a rectangular beam element at the cross-sectional level. Our goal is to determine which permissible design parameters from the defined design space best satisfy defined ultimate limit states (CC/TC/Balanced), with the input parameter being the moment capacity. We employ black box neural network (NN) and/or physics-informed neural network (PINN) methods to tackle this challenge.\n",
    "\n",
    "Phase 2: As we progress, our approach will evolve to address the complexities inherent in designing the beam along its entire length. The framework offers real-time interactive feedback to explore a range of CRC beam design scenarios. It takes into consideration various geometric and material parameters, along with critical limit states such as maximum crack opening and deflection, serving as control factors. Furthermore, constraints are imposed, including maximum material utilization and carbon emissions."
   ]
  },
  {
   "cell_type": "markdown",
   "metadata": {},
   "source": [
    "## Feed forward NN and inversing:\n"
   ]
  },
  {
   "cell_type": "markdown",
   "metadata": {},
   "source": [
    "Given the absence of a unique solution mapping moment capacity to the addmisible design parameters, direct training of a neural network (NN) is impractical to map a single output to a set of inputs (design space). Therefore, a feed forward NN (FFNN) should be used, followed by accuracy and validation tests within the design space. An inversion of the NN can then be attempted. I propose to first construct an NN that uses either a black-box or a physical method to translate input parameters from the design space into the moment capacity of the section. This approach allows a comprehensive investigation of the relationship between inputs and outputs and facilitates the subsequent inversion process."
   ]
  },
  {
   "cell_type": "markdown",
   "metadata": {},
   "source": [
    "## FFNN inputs and output:\n",
    "\n"
   ]
  },
  {
   "cell_type": "markdown",
   "metadata": {},
   "source": [
    "In case of a reinfrced rectangular beam, let us consider the tree parameters. The free parameters of the design can include cross-sectional parameters, e.g. width, depth and reinforcement ratio.\n",
    "\n",
    "$$\n",
    " \\mathcal{C} = [b, d, \\rho]\n",
    "$$ \n",
    "The FFNN predicts the ultimate moment capacity of the beam:\n",
    "$$\n",
    " \\mathcal{M}\n",
    "$$ "
   ]
  },
  {
   "cell_type": "markdown",
   "metadata": {},
   "source": [
    "ANNs are trained to associate network inputs with corresponding outputs, which are subsequently utilized to generate a vector of solutions (design results) for designing, all without relying on knowledge of structural mechanics. ANNs comprise numerous interconnected nodes and deep hidden layers, like to biological neurons, aimed at effectively integrating incoming signals and mapping training outcomes onto network outputs. The process involves activating weighted interconnections and bias linking through a nonlinear numerical computation function, such as the rectified linear unit (ReLU). Network inputs (x1 to xn) are conveyed to neurons across successive layers, establishing full connectivity through weights at each neuron and bias in every hidden layer.\n",
    "\n",
    "$$\n",
    "y=\\sigma^N\\left(\\mathbf{W}^N \\sigma^{N-1}\\left(\\mathbf{W}^{N-1} \\ldots \\sigma^1\\left(\\mathbf{W}^1 \\mathbf{x}+\\mathbf{b}^1\\right) \\ldots+\\mathbf{b}^{N-1}\\right)+b^N\\right)\n",
    "$$\n",
    "\n",
    "In which, $y$ is output parameter; $\\mathbf{x}$ is input vector; $N$ is a number of layers including hidden layers and output layer; $\\mathbf{W}$ is matrix of weight values between layer $n-1$ and $n$; $bn$ is bias values of layer $n$; $\\sigma^{n}$ is the activation function of layer $n$. IN phase 1, FNNN will be used to map the design space $x=C$ to $y=M$."
   ]
  },
  {
   "cell_type": "markdown",
   "metadata": {},
   "source": [
    "## Generating synthetic data and storing:\n"
   ]
  },
  {
   "cell_type": "markdown",
   "metadata": {},
   "source": [
    "## Training the FFNN:"
   ]
  },
  {
   "cell_type": "markdown",
   "metadata": {},
   "source": [
    "## Verification and validation:"
   ]
  },
  {
   "cell_type": "markdown",
   "metadata": {},
   "source": [
    "## Inversing the trained FFNN:"
   ]
  },
  {
   "cell_type": "markdown",
   "metadata": {},
   "source": [
    "comment: consider level-set method combined with FFNN "
   ]
  },
  {
   "cell_type": "markdown",
   "metadata": {},
   "source": [
    "## PINNS as forward mapper:"
   ]
  },
  {
   "cell_type": "markdown",
   "metadata": {},
   "source": [
    "## Investigating the direct using of PINNS:\n",
    "\n"
   ]
  },
  {
   "cell_type": "markdown",
   "metadata": {},
   "source": [
    "## Inversing forward PINNS:\n"
   ]
  },
  {
   "cell_type": "markdown",
   "metadata": {},
   "source": []
  },
  {
   "cell_type": "markdown",
   "metadata": {},
   "source": [
    "# PHASE 2: At the element level "
   ]
  },
  {
   "cell_type": "markdown",
   "metadata": {},
   "source": [
    "## Potentials and assumptions"
   ]
  },
  {
   "cell_type": "markdown",
   "metadata": {},
   "source": [
    " ******needs to be continued****\n",
    "\n",
    "\n",
    "\n",
    "in Constraints and Objectives:\n",
    "\n",
    "Objectives:\n",
    "Limit states must be measured at element level: maximum crack opening and maximum mid-span deflection \n",
    "Limit states can be measured at both levels: maximum material utilization and carbon emission \n",
    "\n",
    "Constraints:\n",
    "maximum material utilization and carbon emission.\n",
    "\n",
    "various geometric and material parameters:  \n",
    "\n",
    "PINN facilitates the top-down search for optimal solutions for rectangular CRC beams through an objective function that integrates failure modes, ultimate and serviceability limit states, maximum material utilization and carbon emissions as constraints or objectives.\n"
   ]
  },
  {
   "cell_type": "markdown",
   "metadata": {},
   "source": [
    "A forward-backward mapping neural network is tuned using two-mode differentiation via an automatic differentiation approach to calculate the essential gradients for minimizing defined loss functions. The calculated design variables and their derivatives are used to estimate how well the objective function is satisfied.\n",
    "\n",
    "A future milestone is the seamless integration of general beam cross-sections, which will improve the versatility of the approach in exploring optimal CRC beam configurations for different structural requirements. It is expected that this addition will significantly contribute to the further development and adaptability of the PIML approach in the design of CRC beams.\n",
    "\n",
    "\n",
    "\n"
   ]
  },
  {
   "cell_type": "markdown",
   "metadata": {},
   "source": []
  },
  {
   "cell_type": "markdown",
   "metadata": {},
   "source": []
  },
  {
   "cell_type": "markdown",
   "metadata": {},
   "source": []
  },
  {
   "cell_type": "markdown",
   "metadata": {},
   "source": []
  },
  {
   "cell_type": "markdown",
   "metadata": {},
   "source": []
  }
 ],
 "metadata": {
  "kernelspec": {
   "display_name": "Python 3",
   "language": "python",
   "name": "python3"
  },
  "language_info": {
   "codemirror_mode": {
    "name": "ipython",
    "version": 3
   },
   "file_extension": ".py",
   "mimetype": "text/x-python",
   "name": "python",
   "nbconvert_exporter": "python",
   "pygments_lexer": "ipython3"
  }
 },
 "nbformat": 4,
 "nbformat_minor": 2
}
