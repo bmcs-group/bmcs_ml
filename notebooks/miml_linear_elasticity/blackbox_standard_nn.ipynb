{
 "cells": [
  {
   "cell_type": "code",
   "execution_count": null,
   "metadata": {},
   "outputs": [],
   "source": [
    "import numpy as np\n",
    "import torch\n",
    "import torch.nn as nn\n",
    "import torch.optim as optim\n",
    "import matplotlib.pyplot as plt\n",
    "%matplotlib inline"
   ]
  },
  {
   "cell_type": "code",
   "execution_count": null,
   "metadata": {},
   "outputs": [],
   "source": [
    "\n",
    "E_modulus = 200  # Elastic modulus (MPa)\n",
    "C1, C2 = 0, 0  # Nonlinear coefficients\n",
    "noise_level = 0 \n",
    "\n",
    "def generate_nonlinear_elastic_data(epsilon_values, E, C1, C2, noise_level):\n",
    "    sigma = E * epsilon_values + C1 * epsilon_values ** 2 + C2 * epsilon_values ** 3\n",
    "    noise = noise_level * np.random.randn(*epsilon_values.shape)\n",
    "    return sigma + noise\n",
    "\n",
    "epsilon_train = np.linspace(0, 0.3, 100).reshape(-1, 1).astype(np.float32)\n",
    "sigma_train = generate_nonlinear_elastic_data(epsilon_train, E_modulus, C1, C2, noise_level).astype(np.float32)\n",
    "plt.figure(figsize=(8, 5))\n",
    "plt.plot(epsilon_train, sigma_train, 'ro', label='Noisy Synthetic Stress-Strain Data')\n",
    "\n",
    "\n",
    "epsilon_analytical = np.linspace(0, 0.3, 100).reshape(-1, 1).astype(np.float32)\n",
    "sigma_analytical = E_modulus * epsilon_analytical + C1 * epsilon_analytical ** 2 + C2 * epsilon_analytical ** 3\n",
    "plt.plot(epsilon_analytical, sigma_analytical, 'b-', linewidth=2, label='Analytical (Smooth)')\n",
    "\n",
    "# Labels and title\n",
    "plt.xlabel('Strain (ε)')\n",
    "plt.ylabel('Stress (σ)')\n",
    "plt.title('Noisy Synthetic Stress-Strain Curve with Analytical Comparison')\n",
    "plt.legend()\n",
    "plt.grid(True)\n",
    "plt.show()\n",
    "\n",
    "# Convert to PyTorch tensors\n",
    "epsilon_train_tensor = torch.tensor(epsilon_train, requires_grad=False)\n",
    "sigma_train_tensor = torch.tensor(sigma_train)\n"
   ]
  },
  {
   "cell_type": "code",
   "execution_count": null,
   "metadata": {},
   "outputs": [],
   "source": [
    "class BlackBoxNN(nn.Module):\n",
    "    def __init__(self, hidden_dim, num_hidden_layers):\n",
    "        super(BlackBoxNN, self).__init__()\n",
    "        self.input_layer = nn.Linear(1, hidden_dim)\n",
    "        self.hidden_layers = nn.ModuleList(\n",
    "            [nn.Linear(hidden_dim, hidden_dim) for _ in range(num_hidden_layers)]\n",
    "        )\n",
    "        \n",
    "        self.output_layer = nn.Linear(hidden_dim, 1)\n",
    "\n",
    "    def forward(self, epsilon):\n",
    "        x = torch.relu(self.input_layer(epsilon))\n",
    "        for layer in self.hidden_layers:\n",
    "            x = torch.relu(layer(x))\n",
    "        \n",
    "        return self.output_layer(x)\n"
   ]
  },
  {
   "cell_type": "code",
   "execution_count": null,
   "metadata": {},
   "outputs": [],
   "source": [
    "\n",
    "hidden_dim = 60 \n",
    "num_hidden_layers = 3  \n",
    "net = BlackBoxNN(hidden_dim, num_hidden_layers)\n",
    "loss_fn = nn.MSELoss()\n",
    "epochs = 5000\n",
    "lr = 1e-3\n",
    "batch_size = 16  \n",
    "optimizer = optim.Adam(net.parameters(), lr=lr)\n",
    "loss_history = []\n",
    "\n",
    "for epoch in range(epochs):\n",
    "    permutation = torch.randperm(epsilon_train_tensor.size(0))  # Shuffle the data at each epoch\n",
    "    \n",
    "    epoch_loss = 0  \n",
    "    \n",
    "    for i in range(0, epsilon_train_tensor.size(0), batch_size):\n",
    "        indices = permutation[i:i + batch_size]\n",
    "        epsilon_batch = epsilon_train_tensor[indices]\n",
    "        sigma_batch = sigma_train_tensor[indices]\n",
    "        \n",
    "        optimizer.zero_grad()\n",
    "        \n",
    "        pred_stress = net(epsilon_batch)\n",
    "        \n",
    "        loss = loss_fn(pred_stress, sigma_batch)\n",
    "        \n",
    "        loss.backward()\n",
    "        optimizer.step()\n",
    "        \n",
    "        epoch_loss += loss.item()\n",
    "    \n",
    "    avg_epoch_loss = epoch_loss / (epsilon_train_tensor.size(0) / batch_size)\n",
    "    loss_history.append(avg_epoch_loss)\n",
    "    \n",
    "    if epoch % 100 == 0:\n",
    "        print(f'Epoch {epoch}, Loss: {avg_epoch_loss}')\n",
    "\n",
    "# Save trained model for future use\n",
    "torch.save(net, \"black_box_nn_LE.pth\")\n",
    "\n",
    "# Visualize the training loss\n",
    "plt.figure(figsize=(8, 5))\n",
    "plt.plot(range(epochs), loss_history, 'b-', label='Training Loss')\n",
    "plt.xlabel('Epochs')\n",
    "plt.ylabel('Loss (MSE)')\n",
    "plt.title('Training Loss Over Time')\n",
    "plt.legend()\n",
    "plt.grid(True)\n",
    "plt.show()"
   ]
  },
  {
   "cell_type": "code",
   "execution_count": null,
   "metadata": {},
   "outputs": [],
   "source": [
    "epsilon_test = np.linspace(0, 0.6, 100).reshape(-1, 1).astype(np.float32)\n",
    "epsilon_test_tensor = torch.tensor(epsilon_test, requires_grad=False)\n",
    "pred_sigma_test = net(epsilon_test_tensor).detach().numpy()\n",
    "sigma_mechanical_model = generate_nonlinear_elastic_data(epsilon_test, E_modulus, C1, C2, 0)\n",
    "plt.figure(figsize=(8, 5))\n",
    "plt.plot(epsilon_test, sigma_mechanical_model, 'g-', label='Mechanical Model (No Noise)', linewidth=2)\n",
    "plt.plot(epsilon_test, pred_sigma_test, 'b--', label='NN Predicted Stress', linewidth=2)\n",
    "plt.xlabel('Strain (ε)')\n",
    "plt.ylabel('Stress (σ)')\n",
    "plt.title('Mechanical Model vs. Neural Network Predictions')\n",
    "plt.legend()\n",
    "plt.grid(True)\n",
    "plt.show()\n"
   ]
  },
  {
   "cell_type": "code",
   "execution_count": null,
   "metadata": {},
   "outputs": [],
   "source": [
    "net_loaded = torch.load(\"black_box_nn.pth\")"
   ]
  },
  {
   "cell_type": "code",
   "execution_count": null,
   "metadata": {},
   "outputs": [],
   "source": []
  },
  {
   "cell_type": "code",
   "execution_count": null,
   "metadata": {},
   "outputs": [],
   "source": []
  }
 ],
 "metadata": {
  "kernelspec": {
   "display_name": "Python 3",
   "language": "python",
   "name": "python3"
  },
  "language_info": {
   "codemirror_mode": {
    "name": "ipython",
    "version": 3
   },
   "file_extension": ".py",
   "mimetype": "text/x-python",
   "name": "python",
   "nbconvert_exporter": "python",
   "pygments_lexer": "ipython3"
  }
 },
 "nbformat": 4,
 "nbformat_minor": 2
}
