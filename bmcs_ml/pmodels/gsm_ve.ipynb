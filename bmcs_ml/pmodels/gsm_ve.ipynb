{
 "cells": [
  {
   "cell_type": "code",
   "execution_count": null,
   "metadata": {},
   "outputs": [],
   "source": [
    "%matplotlib widget\n",
    "from gsm_ve import GSM_VE\n",
    "import numpy as np\n",
    "import matplotlib.pyplot as plt\n",
    "from pathlib import Path"
   ]
  },
  {
   "cell_type": "code",
   "execution_count": null,
   "metadata": {},
   "outputs": [],
   "source": [
    "# Create instances of each class\n",
    "pi_gsm_ve = GSM_VE()"
   ]
  },
  {
   "cell_type": "code",
   "execution_count": null,
   "metadata": {},
   "outputs": [],
   "source": [
    "pi_gsm_ve.Pi_n1"
   ]
  },
  {
   "cell_type": "code",
   "execution_count": null,
   "metadata": {},
   "outputs": [],
   "source": [
    "pi_gsm_ve.data_dir"
   ]
  },
  {
   "cell_type": "code",
   "execution_count": null,
   "metadata": {},
   "outputs": [],
   "source": [
    "\n",
    "E_val = 30e+3  # Young's modulus in MPa\n",
    "eta_val = 30e+6  # Viscosity modulus in Pa / s\n",
    "mparams = (E_val, eta_val)\n",
    "d_t_val = 0.01 # Time step in seconds\n",
    "final_time = 20  # Final time in secondsfinal_time = 1\n",
    "\n",
    "# Generate cyclic sinusoidal loading history\n",
    "time_t = np.linspace(0, final_time, int(final_time / d_t_val) + 1)\n",
    "eps_t_2_cycles = 0.01 * np.sin(2 * np.pi * 1 * time_t / final_time)  # 2 cycles\n",
    "\n",
    "d_eps_t = np.diff(eps_t_2_cycles, axis=0)\n",
    "d_t_t = np.diff(time_t, axis=0)\n",
    "\n",
    "# Compute responses for both loading histories using get_delta_Pi and get_ddelta_Pi_ddot_eps_v\n",
    "# data_ipre_2 = perform_integration(ti_minp, pi_ipre, eps_t_2_cycles, time_t, *mparams)\n",
    "# data_ipre_4 = perform_integration(ti_minp, pi_ipre, eps_t_4_cycles, time_t, *mparams)\n",
    "\n",
    "# Compute responses for both loading histories using get_Pi and get_jac_Pi_ddot_eps_v\n",
    "gsm_ve_data = pi_gsm_ve.perform_integration(eps_t_2_cycles, time_t, *mparams)\n"
   ]
  },
  {
   "cell_type": "code",
   "execution_count": null,
   "metadata": {},
   "outputs": [],
   "source": [
    "loaded_data = np.load(Path.home() / \"bmcs_training_data\" / '2C_1.0A' /\"Pi_data_2C_1.0A.npy\")\n",
    "\n",
    "# Print shape and first few rows\n",
    "print(\"Loaded data shape:\", loaded_data.shape)\n",
    "print(\"First few rows:\\n\", loaded_data)"
   ]
  },
  {
   "cell_type": "code",
   "execution_count": null,
   "metadata": {},
   "outputs": [],
   "source": [
    "# Create the figure and axes\n",
    "fig, (ax1, ax2, ax3) = plt.subplots(3, 1, figsize=(8, 12))\n",
    "fig.canvas.header_visible = False\n",
    "# Plot the results for the two studies\n",
    "pi_gsm_ve.plot_results(ax1, ax2, ax3, gsm_ve_data, '2 cycles', 'blue' )\n",
    "fig.tight_layout()"
   ]
  },
  {
   "cell_type": "code",
   "execution_count": null,
   "metadata": {},
   "outputs": [],
   "source": []
  },
  {
   "cell_type": "code",
   "execution_count": null,
   "metadata": {},
   "outputs": [],
   "source": []
  },
  {
   "cell_type": "code",
   "execution_count": null,
   "metadata": {},
   "outputs": [],
   "source": []
  }
 ],
 "metadata": {
  "kernelspec": {
   "display_name": "Python 3",
   "language": "python",
   "name": "python3"
  },
  "language_info": {
   "codemirror_mode": {
    "name": "ipython",
    "version": 3
   },
   "file_extension": ".py",
   "mimetype": "text/x-python",
   "name": "python",
   "nbconvert_exporter": "python",
   "pygments_lexer": "ipython3"
  }
 },
 "nbformat": 4,
 "nbformat_minor": 2
}
